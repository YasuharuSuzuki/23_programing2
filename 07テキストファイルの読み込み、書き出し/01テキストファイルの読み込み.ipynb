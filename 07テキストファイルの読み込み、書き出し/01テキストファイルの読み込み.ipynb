{
 "cells": [
  {
   "cell_type": "markdown",
   "metadata": {
    "colab_type": "text",
    "id": "view-in-github"
   },
   "source": [
    "<a href=\"https://colab.research.google.com/github/YasuharuSuzuki/23_programing2/blob/main/\" target=\"_parent\"><img src=\"https://colab.research.google.com/assets/colab-badge.svg\" alt=\"Open In Colab\"/></a>"
   ]
  },
  {
   "cell_type": "markdown",
   "metadata": {},
   "source": [
    "### Section 13 テキストファイルの読み込み、書き出し\n",
    "# Section 13-1 テキストファイルを読み込む(教科書P.302)"
   ]
  },
  {
   "cell_type": "markdown",
   "metadata": {},
   "source": [
    "## 参考サイト\n",
    "### [【Python早見表】ファイルからの読み込み](https://chokkan.github.io/python/11file.html#id3)\n",
    "### [【Python入門】ファイル入出力](https://utokyo-ipp.github.io/4/4-1.html)"
   ]
  },
  {
   "cell_type": "markdown",
   "metadata": {},
   "source": [
    "## サンプルプログラム１　テキストファイルを読み込む"
   ]
  },
  {
   "cell_type": "markdown",
   "metadata": {},
   "source": [
    "- 解析したいデータをテキストファイルから読み込んで処理したい時に使用します。"
   ]
  },
  {
   "cell_type": "code",
   "execution_count": 3,
   "metadata": {},
   "outputs": [
    {
     "name": "stdout",
     "output_type": "stream",
     "text": [
      "Hanshin won 9 straight games for the first time in 16 years, the longest winning streak this season.\n",
      "19 wins in a month tied for the most by a team in 55 years.\n",
      "\n"
     ]
    }
   ],
   "source": [
    "# drive.mount()を使用してGoogleDriveをMount\n",
    "from google.colab import drive\n",
    "drive.mount('/content/drive')\n",
    "\n",
    "# os.chdir()を使用してカレントディレクトリを変更。作成したショーットカット名を使ってパスを指定します。\n",
    "import os\n",
    "os.chdir('/content/drive/MyDrive/＜作成したショートカット名＞')\n",
    "\n",
    "# ./data/以下のファイルをアップロードしておき、ここでパスを指定します\n",
    "file_path = \"./data/tiger.txt\"\n",
    "\n",
    "# ファイルを読み込みます\n",
    "fileobj = open(file_path)\n",
    "text = fileobj.read()\n",
    "fileobj.close()\n",
    "print(text)"
   ]
  },
  {
   "cell_type": "markdown",
   "metadata": {},
   "source": [
    "## 練習プログラム１　テキストファイルを読み込む (0.5点)\n",
    "- \"./data/sasaki.txt\" を読み込んで出力してみましょう。 "
   ]
  },
  {
   "cell_type": "code",
   "execution_count": 5,
   "metadata": {},
   "outputs": [
    {
     "name": "stdout",
     "output_type": "stream",
     "text": [
      "Roki Sasaki's \"disappearing magic ball\" is \"impossible to hit\".\n",
      "Batter's one-turn \"top level of all time\".\n"
     ]
    }
   ],
   "source": [
    "# テキスト読み込みのプログラムを書いてみましょう\n",
    "# このNotebookのサンプルプログラムや教科書の値とは違う独自の値を入れましょう。変数名も独自のものに変えましょう。\n",
    "\n",
    "# ここにPythonプログラムを記述してください"
   ]
  },
  {
   "cell_type": "markdown",
   "metadata": {},
   "source": [
    "---\n",
    "---\n",
    "---\n",
    "---\n",
    "---"
   ]
  },
  {
   "cell_type": "code",
   "execution_count": null,
   "metadata": {},
   "outputs": [],
   "source": []
  }
 ],
 "metadata": {
  "colab": {
   "authorship_tag": "ABX9TyMOtB7OiTVLb+yu2KoVwjto",
   "include_colab_link": true,
   "provenance": []
  },
  "kernelspec": {
   "display_name": "Python 3 (ipykernel)",
   "language": "python",
   "name": "python3"
  },
  "language_info": {
   "codemirror_mode": {
    "name": "ipython",
    "version": 3
   },
   "file_extension": ".py",
   "mimetype": "text/x-python",
   "name": "python",
   "nbconvert_exporter": "python",
   "pygments_lexer": "ipython3",
   "version": "3.10.8"
  }
 },
 "nbformat": 4,
 "nbformat_minor": 1
}

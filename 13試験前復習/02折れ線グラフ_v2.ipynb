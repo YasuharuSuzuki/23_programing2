{
 "cells": [
  {
   "cell_type": "markdown",
   "metadata": {
    "colab_type": "text",
    "id": "view-in-github"
   },
   "source": [
    "<a href=\"https://colab.research.google.com/github/YasuharuSuzuki/23_programing2/blob/main/\" target=\"_parent\"><img src=\"https://colab.research.google.com/assets/colab-badge.svg\" alt=\"Open In Colab\"/></a>"
   ]
  },
  {
   "cell_type": "markdown",
   "metadata": {},
   "source": [
    "### ライブラリの読み込み\n",
    "- pip install が必要なライブラリはpipを使用してインストールする\n",
    "- importを使用してライブラリを読み込む"
   ]
  },
  {
   "cell_type": "code",
   "execution_count": 1,
   "metadata": {},
   "outputs": [
    {
     "name": "stdout",
     "output_type": "stream",
     "text": [
      "Requirement already satisfied: japanize_matplotlib in /Users/suzuki_yasuharu/mambaforge/envs/base23/lib/python3.10/site-packages (1.1.3)\n",
      "Requirement already satisfied: matplotlib in /Users/suzuki_yasuharu/mambaforge/envs/base23/lib/python3.10/site-packages (from japanize_matplotlib) (3.7.1)\n",
      "Requirement already satisfied: contourpy>=1.0.1 in /Users/suzuki_yasuharu/mambaforge/envs/base23/lib/python3.10/site-packages (from matplotlib->japanize_matplotlib) (1.1.0)\n",
      "Requirement already satisfied: cycler>=0.10 in /Users/suzuki_yasuharu/mambaforge/envs/base23/lib/python3.10/site-packages (from matplotlib->japanize_matplotlib) (0.11.0)\n",
      "Requirement already satisfied: fonttools>=4.22.0 in /Users/suzuki_yasuharu/mambaforge/envs/base23/lib/python3.10/site-packages (from matplotlib->japanize_matplotlib) (4.40.0)\n",
      "Requirement already satisfied: kiwisolver>=1.0.1 in /Users/suzuki_yasuharu/mambaforge/envs/base23/lib/python3.10/site-packages (from matplotlib->japanize_matplotlib) (1.4.4)\n",
      "Requirement already satisfied: numpy>=1.20 in /Users/suzuki_yasuharu/mambaforge/envs/base23/lib/python3.10/site-packages (from matplotlib->japanize_matplotlib) (1.25.0)\n",
      "Requirement already satisfied: packaging>=20.0 in /Users/suzuki_yasuharu/mambaforge/envs/base23/lib/python3.10/site-packages (from matplotlib->japanize_matplotlib) (23.1)\n",
      "Requirement already satisfied: pillow>=6.2.0 in /Users/suzuki_yasuharu/mambaforge/envs/base23/lib/python3.10/site-packages (from matplotlib->japanize_matplotlib) (9.5.0)\n",
      "Requirement already satisfied: pyparsing>=2.3.1 in /Users/suzuki_yasuharu/mambaforge/envs/base23/lib/python3.10/site-packages (from matplotlib->japanize_matplotlib) (3.1.0)\n",
      "Requirement already satisfied: python-dateutil>=2.7 in /Users/suzuki_yasuharu/mambaforge/envs/base23/lib/python3.10/site-packages (from matplotlib->japanize_matplotlib) (2.8.2)\n",
      "Requirement already satisfied: six>=1.5 in /Users/suzuki_yasuharu/mambaforge/envs/base23/lib/python3.10/site-packages (from python-dateutil>=2.7->matplotlib->japanize_matplotlib) (1.16.0)\n"
     ]
    }
   ],
   "source": [
    "# matplotlib日本語対応ライブラリのインストール\n",
    "!pip install japanize_matplotlib"
   ]
  },
  {
   "cell_type": "code",
   "execution_count": 2,
   "metadata": {},
   "outputs": [],
   "source": [
    "# importライブラリ定義\n",
    "import pandas as pd # データ加工ライブラリ\n",
    "import datetime as dt # 時間ライブラリ\n",
    "import matplotlib.pyplot as plt # 可視化ライブラリ\n",
    "import japanize_matplotlib # matplotlib用日本語表示ライブラリ"
   ]
  },
  {
   "cell_type": "markdown",
   "metadata": {},
   "source": [
    "### 定数の定義\n",
    "- データファイルパスを定義しておきます\n",
    "- データ読み込みの際にご使用してください。修正は不要です"
   ]
  },
  {
   "cell_type": "code",
   "execution_count": 3,
   "metadata": {},
   "outputs": [],
   "source": [
    "# データファイルパス定義\n",
    "PREFECTURES_V2_CSV = \"./data/prefectures_v2.csv\"\n",
    "VACCINATION_V2_CSV = \"./data/vaccination_v2.csv\""
   ]
  },
  {
   "cell_type": "markdown",
   "metadata": {},
   "source": [
    "### 19. グラフを描画するユーザー定義関数を作成する (0.5点)\n",
    "1. データをDataFrameに読み込み\n",
    "2. ユーザー定義関数を作る\n",
    "   - 複数のデータを可視化するために、便利なユーザー定義関数を作成します"
   ]
  },
  {
   "cell_type": "markdown",
   "metadata": {},
   "source": [
    "#### データをDataFrameに読み込み\n",
    "- pandas を使って /data/prefectures_v2.csv, /data/vaccination_v2.csv をDataFrameとして読み込みましょう\n",
    "- merge関数を使って DataFrameをマージしましょう(前のNotebookを参考にして良いです)"
   ]
  },
  {
   "cell_type": "code",
   "execution_count": 4,
   "metadata": {},
   "outputs": [],
   "source": [
    "# 都道府県情報をファイルからDataFrameに取得\n",
    "# df_prefectures  という変数に格納します\n",
    "\n",
    "\n",
    "# ワクチン接種情報をファイルからDataFrameに取得\n",
    "# df_vaccination という変数に格納します\n",
    "\n",
    "\n",
    "\n",
    "# merge関数を使って DataFrameをマージ\n",
    "# df_vaccination 変数に上書きで格納します\n"
   ]
  },
  {
   "cell_type": "markdown",
   "metadata": {},
   "source": [
    "#### 読み込みデータの確認\n",
    "- この部分はそのままで動作するように作成してください。\n",
    "- 出力結果が変わらなkれば正解です"
   ]
  },
  {
   "cell_type": "code",
   "execution_count": 5,
   "metadata": {
    "scrolled": true
   },
   "outputs": [
    {
     "name": "stdout",
     "output_type": "stream",
     "text": [
      "データ件数＝ 4760\n"
     ]
    },
    {
     "data": {
      "text/html": [
       "<div>\n",
       "<style scoped>\n",
       "    .dataframe tbody tr th:only-of-type {\n",
       "        vertical-align: middle;\n",
       "    }\n",
       "\n",
       "    .dataframe tbody tr th {\n",
       "        vertical-align: top;\n",
       "    }\n",
       "\n",
       "    .dataframe thead th {\n",
       "        text-align: right;\n",
       "    }\n",
       "</style>\n",
       "<table border=\"1\" class=\"dataframe\">\n",
       "  <thead>\n",
       "    <tr style=\"text-align: right;\">\n",
       "      <th></th>\n",
       "      <th>日付</th>\n",
       "      <th>都道府県ID</th>\n",
       "      <th>ワクチン接種数</th>\n",
       "      <th>都道府県名</th>\n",
       "    </tr>\n",
       "  </thead>\n",
       "  <tbody>\n",
       "    <tr>\n",
       "      <th>0</th>\n",
       "      <td>2021-04-12</td>\n",
       "      <td>1</td>\n",
       "      <td>283</td>\n",
       "      <td>北海道</td>\n",
       "    </tr>\n",
       "    <tr>\n",
       "      <th>1</th>\n",
       "      <td>2021-04-13</td>\n",
       "      <td>1</td>\n",
       "      <td>317</td>\n",
       "      <td>北海道</td>\n",
       "    </tr>\n",
       "    <tr>\n",
       "      <th>2</th>\n",
       "      <td>2021-04-14</td>\n",
       "      <td>1</td>\n",
       "      <td>264</td>\n",
       "      <td>北海道</td>\n",
       "    </tr>\n",
       "    <tr>\n",
       "      <th>3</th>\n",
       "      <td>2021-04-15</td>\n",
       "      <td>1</td>\n",
       "      <td>753</td>\n",
       "      <td>北海道</td>\n",
       "    </tr>\n",
       "    <tr>\n",
       "      <th>4</th>\n",
       "      <td>2021-04-16</td>\n",
       "      <td>1</td>\n",
       "      <td>1082</td>\n",
       "      <td>北海道</td>\n",
       "    </tr>\n",
       "    <tr>\n",
       "      <th>4755</th>\n",
       "      <td>2021-07-18</td>\n",
       "      <td>31</td>\n",
       "      <td>5625</td>\n",
       "      <td>鳥取県</td>\n",
       "    </tr>\n",
       "    <tr>\n",
       "      <th>4756</th>\n",
       "      <td>2021-07-19</td>\n",
       "      <td>31</td>\n",
       "      <td>3214</td>\n",
       "      <td>鳥取県</td>\n",
       "    </tr>\n",
       "    <tr>\n",
       "      <th>4757</th>\n",
       "      <td>2021-07-20</td>\n",
       "      <td>31</td>\n",
       "      <td>4585</td>\n",
       "      <td>鳥取県</td>\n",
       "    </tr>\n",
       "    <tr>\n",
       "      <th>4758</th>\n",
       "      <td>2021-07-21</td>\n",
       "      <td>31</td>\n",
       "      <td>4238</td>\n",
       "      <td>鳥取県</td>\n",
       "    </tr>\n",
       "    <tr>\n",
       "      <th>4759</th>\n",
       "      <td>2021-07-22</td>\n",
       "      <td>31</td>\n",
       "      <td>1247</td>\n",
       "      <td>鳥取県</td>\n",
       "    </tr>\n",
       "  </tbody>\n",
       "</table>\n",
       "</div>"
      ],
      "text/plain": [
       "             日付  都道府県ID  ワクチン接種数 都道府県名\n",
       "0    2021-04-12       1      283   北海道\n",
       "1    2021-04-13       1      317   北海道\n",
       "2    2021-04-14       1      264   北海道\n",
       "3    2021-04-15       1      753   北海道\n",
       "4    2021-04-16       1     1082   北海道\n",
       "4755 2021-07-18      31     5625   鳥取県\n",
       "4756 2021-07-19      31     3214   鳥取県\n",
       "4757 2021-07-20      31     4585   鳥取県\n",
       "4758 2021-07-21      31     4238   鳥取県\n",
       "4759 2021-07-22      31     1247   鳥取県"
      ]
     },
     "execution_count": 5,
     "metadata": {},
     "output_type": "execute_result"
    }
   ],
   "source": [
    "print(\"データ件数＝\", len(df_vaccination))\n",
    "pd.concat([df_vaccination.head(),df_vaccination.tail()])"
   ]
  },
  {
   "cell_type": "markdown",
   "metadata": {},
   "source": [
    "#### ユーザー定義関数の作成\n",
    "- 関数名 : plotVaccinationByPrefecture\n",
    "- 引数\n",
    "  - prefecture_name : 都道府県名\n",
    "  - start_date : 可視化する対象となる期間の開始日付。デフォルトで2012-04-12とする\n",
    "  - end_date : 可視化する対象となる期間の終了日付。デフォルトで2012-07-22とする\n",
    "  - day_plot_interval : 可視化するデータの間隔。デフォルトで7とする。7と定義された場合は7日に１つのデータのみ可視化する\n",
    "  - maker : グラフマーカーを文字で定義して渡す。関数内でplot関数のmarkerに渡される。デフォルトは''(空文字)\n",
    "  - color : グラフの色を渡す。関数内でplot関数のcolorに渡される。デフォルトはNone(未指定と同じ)\n",
    "- 戻り値\n",
    "  - なし\n",
    "- 動作\n",
    "  - ワクチン接種数を折れ線グラフで可視化する\n",
    "  - 第09回の授業で可視化したものと同じ可視化で良い。\n",
    "  - 第09回の授業からはデータが変わっているので、.csvから読み込むように変えることと、pandasを使って絞り込み等を実装すること。"
   ]
  },
  {
   "cell_type": "code",
   "execution_count": 6,
   "metadata": {},
   "outputs": [],
   "source": [
    "# 特定の県の特定の日付の接種数を可視化する関数\n",
    "\n"
   ]
  },
  {
   "cell_type": "markdown",
   "metadata": {},
   "source": [
    "### 20. 沖縄県と東京都の4月のワクチン接種数を可視化 (0.5点)\n",
    "1. 可視化には上で作成したユーザー定義関数を使用しています。\n",
    "   - 正しく実装されていれば、プログラムは未修正でもそのまま動作します。"
   ]
  },
  {
   "cell_type": "code",
   "execution_count": 7,
   "metadata": {},
   "outputs": [
    {
     "data": {
      "image/png": "[encoded data removed]",
      "text/plain": [
       "<Figure size 640x480 with 1 Axes>"
      ]
     },
     "metadata": {},
     "output_type": "display_data"
    }
   ],
   "source": [
    "show_start_date = '2021-04-12' # 日付はゼロ埋めで指定すること\n",
    "show_end_date = '2021-04-30' # 日付はゼロ埋めで指定すること\n",
    "x_interval = 1\n",
    "plotVaccinationByPrefecture(\"沖縄県\", show_start_date, show_end_date, x_interval, 'o', 'orange') # 特定の県の特定の日付の接種数を可視化\n",
    "plotVaccinationByPrefecture(\"東京都\", show_start_date, show_end_date, x_interval, '^', 'blue') # 特定の県の特定の日付の接種数を可視化\n",
    "plt.title(\"沖縄県と東京都のワクチン接種数（オープンデータ）\") # タイトルを表示。日本語が文字化けしてしまう場合はjapanize_matplotlibを使用してください。\n",
    "plt.grid(True) # グリッドを有効にする\n",
    "plt.show() # グラフを表示"
   ]
  },
  {
   "cell_type": "code",
   "execution_count": null,
   "metadata": {},
   "outputs": [],
   "source": []
  }
 ],
 "metadata": {
  "colab": {
   "authorship_tag": "ABX9TyMOtB7OiTVLb+yu2KoVwjto",
   "include_colab_link": true,
   "provenance": []
  },
  "kernelspec": {
   "display_name": "Python 3 (ipykernel)",
   "language": "python",
   "name": "python3"
  },
  "language_info": {
   "codemirror_mode": {
    "name": "ipython",
    "version": 3
   },
   "file_extension": ".py",
   "mimetype": "text/x-python",
   "name": "python",
   "nbconvert_exporter": "python",
   "pygments_lexer": "ipython3",
   "version": "3.10.12"
  }
 },
 "nbformat": 4,
 "nbformat_minor": 1
}

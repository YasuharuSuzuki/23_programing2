{
 "cells": [
  {
   "cell_type": "markdown",
   "metadata": {
    "colab_type": "text",
    "id": "view-in-github"
   },
   "source": [
    "<a href=\"https://colab.research.google.com/github/YasuharuSuzuki/23_programing2/blob/main/\" target=\"_parent\"><img src=\"https://colab.research.google.com/assets/colab-badge.svg\" alt=\"Open In Colab\"/></a>"
   ]
  },
  {
   "cell_type": "markdown",
   "metadata": {},
   "source": [
    "# 01. ワクチン接種データの読み込みとデータ加工v2\n",
    "- Notebookに記述されたプログラムの流れに従って、データを加工するプログラムを作成してください\n",
    "  - 使用データ\n",
    "    - ./data/prefectures_v2.csv  都道府県IDと都道府県データ\n",
    "    - ./data/vaccination_v2.csv  2021年4月12日〜７月22日のワクチン接種データ\n",
    "    - 中間テストとの違いは、.csvになっている点です。pandasを使って読み込みましょう。\n",
    "  - データ加工\n",
    "    - DataFrame/ユーザー定義関数/クラスを使用して加工します\n",
    "    - 最終的にはユーザー定義関数を.pyファイルにモジュール化して読み込みます"
   ]
  },
  {
   "cell_type": "markdown",
   "metadata": {},
   "source": [
    "### 00. 定数の定義\n",
    "- データファイルパスを定義しておきます\n",
    "- データ読み込みの際にご使用してください。修正は不要です"
   ]
  },
  {
   "cell_type": "code",
   "execution_count": 1,
   "metadata": {},
   "outputs": [],
   "source": [
    "# データファイルパス定義\n",
    "PREFECTURES_V2_CSV = \"./data/prefectures_v2.csv\"\n",
    "VACCINATION_V2_CSV = \"./data/vaccination_v2.csv\"\n",
    "OKINAWA_VACCINATION_V2_CSV = \"./data/okinawa_vaccination_v2.csv\""
   ]
  },
  {
   "cell_type": "markdown",
   "metadata": {},
   "source": [
    "## 01. 都道府県データの読み込み(0.5点)\n",
    "1. GoogleDriveをマウントしましょう\n",
    "  - 第４回の授業で行ったようにショートカットを作成しましょう\n",
    "  - ショートカット先は採点する先生が読み込み可能な共有ドライブで作成してください。\n",
    "  - GoogleDriveをマウント後、データが読み込み可能なようにカレントディレクトリを変更してください。\n",
    "\n",
    "2. ./data/prefectures_v2.csv を読み込みましょう\n",
    "  - csvで都道府県IDと都道府県名が定義されているため、DataFrame型で読み込みましょう\n",
    "    - ヒント：read_csv()という関数を使うと読込みできます。index_col=0を指定して、都道府県IDをindexにしましょう。\n",
    "    - [参考サイト：read_csv()](https://note.nkmk.me/python-pandas-read-csv-tsv/)\n",
    "  - 読み込んだデータは df_prefectures というDataFrame型の変数に格納してください。"
   ]
  },
  {
   "cell_type": "code",
   "execution_count": 2,
   "metadata": {},
   "outputs": [],
   "source": [
    "# GoogleDriveをMount\n",
    "\n",
    "# カレントディレクトリを変更。作成したショーットカット名を使ってパスを指定します。\n",
    "\n",
    "# ファイルを読み込みながらDataFrame型で取得\n",
    "\n",
    "# df_prefectures  # この名前のDataFrame型の変数に格納する形でプログラムを作成してください"
   ]
  },
  {
   "cell_type": "markdown",
   "metadata": {},
   "source": [
    "## 02. 読み込んだDataFrame型の変数を表示(0.5点)\n",
    "- 変数を表示するだけのプログラムを書いておきますので、プログラムを修正せずにIDと名前が出力されれば正解です\n",
    "  - loc[]を使用してIDと都道府県名の両方を指定したり、都道府県名だけを取り出すことができます。\n",
    "  - [locの参考サイト](https://note.nkmk.me/python-pandas-at-iat-loc-iloc/)"
   ]
  },
  {
   "cell_type": "code",
   "execution_count": 3,
   "metadata": {
    "scrolled": true
   },
   "outputs": [
    {
     "data": {
      "text/html": [
       "<div>\n",
       "<style scoped>\n",
       "    .dataframe tbody tr th:only-of-type {\n",
       "        vertical-align: middle;\n",
       "    }\n",
       "\n",
       "    .dataframe tbody tr th {\n",
       "        vertical-align: top;\n",
       "    }\n",
       "\n",
       "    .dataframe thead th {\n",
       "        text-align: right;\n",
       "    }\n",
       "</style>\n",
       "<table border=\"1\" class=\"dataframe\">\n",
       "  <thead>\n",
       "    <tr style=\"text-align: right;\">\n",
       "      <th></th>\n",
       "      <th>都道府県名</th>\n",
       "    </tr>\n",
       "    <tr>\n",
       "      <th>都道府県ID</th>\n",
       "      <th></th>\n",
       "    </tr>\n",
       "  </thead>\n",
       "  <tbody>\n",
       "    <tr>\n",
       "      <th>1</th>\n",
       "      <td>北海道</td>\n",
       "    </tr>\n",
       "    <tr>\n",
       "      <th>2</th>\n",
       "      <td>青森県</td>\n",
       "    </tr>\n",
       "    <tr>\n",
       "      <th>3</th>\n",
       "      <td>岩手県</td>\n",
       "    </tr>\n",
       "    <tr>\n",
       "      <th>4</th>\n",
       "      <td>宮城県</td>\n",
       "    </tr>\n",
       "    <tr>\n",
       "      <th>5</th>\n",
       "      <td>秋田県</td>\n",
       "    </tr>\n",
       "    <tr>\n",
       "      <th>6</th>\n",
       "      <td>山形県</td>\n",
       "    </tr>\n",
       "    <tr>\n",
       "      <th>7</th>\n",
       "      <td>福島県</td>\n",
       "    </tr>\n",
       "    <tr>\n",
       "      <th>8</th>\n",
       "      <td>茨城県</td>\n",
       "    </tr>\n",
       "    <tr>\n",
       "      <th>9</th>\n",
       "      <td>栃木県</td>\n",
       "    </tr>\n",
       "    <tr>\n",
       "      <th>10</th>\n",
       "      <td>群馬県</td>\n",
       "    </tr>\n",
       "    <tr>\n",
       "      <th>11</th>\n",
       "      <td>埼玉県</td>\n",
       "    </tr>\n",
       "    <tr>\n",
       "      <th>12</th>\n",
       "      <td>千葉県</td>\n",
       "    </tr>\n",
       "    <tr>\n",
       "      <th>13</th>\n",
       "      <td>東京都</td>\n",
       "    </tr>\n",
       "    <tr>\n",
       "      <th>14</th>\n",
       "      <td>神奈川県</td>\n",
       "    </tr>\n",
       "    <tr>\n",
       "      <th>15</th>\n",
       "      <td>新潟県</td>\n",
       "    </tr>\n",
       "    <tr>\n",
       "      <th>16</th>\n",
       "      <td>富山県</td>\n",
       "    </tr>\n",
       "    <tr>\n",
       "      <th>17</th>\n",
       "      <td>石川県</td>\n",
       "    </tr>\n",
       "    <tr>\n",
       "      <th>18</th>\n",
       "      <td>福井県</td>\n",
       "    </tr>\n",
       "    <tr>\n",
       "      <th>19</th>\n",
       "      <td>山梨県</td>\n",
       "    </tr>\n",
       "    <tr>\n",
       "      <th>20</th>\n",
       "      <td>長野県</td>\n",
       "    </tr>\n",
       "    <tr>\n",
       "      <th>21</th>\n",
       "      <td>岐阜県</td>\n",
       "    </tr>\n",
       "    <tr>\n",
       "      <th>22</th>\n",
       "      <td>静岡県</td>\n",
       "    </tr>\n",
       "    <tr>\n",
       "      <th>23</th>\n",
       "      <td>愛知県</td>\n",
       "    </tr>\n",
       "    <tr>\n",
       "      <th>24</th>\n",
       "      <td>三重県</td>\n",
       "    </tr>\n",
       "    <tr>\n",
       "      <th>25</th>\n",
       "      <td>滋賀県</td>\n",
       "    </tr>\n",
       "    <tr>\n",
       "      <th>26</th>\n",
       "      <td>京都府</td>\n",
       "    </tr>\n",
       "    <tr>\n",
       "      <th>27</th>\n",
       "      <td>大阪府</td>\n",
       "    </tr>\n",
       "    <tr>\n",
       "      <th>28</th>\n",
       "      <td>兵庫県</td>\n",
       "    </tr>\n",
       "    <tr>\n",
       "      <th>29</th>\n",
       "      <td>奈良県</td>\n",
       "    </tr>\n",
       "    <tr>\n",
       "      <th>30</th>\n",
       "      <td>和歌山県</td>\n",
       "    </tr>\n",
       "    <tr>\n",
       "      <th>31</th>\n",
       "      <td>鳥取県</td>\n",
       "    </tr>\n",
       "    <tr>\n",
       "      <th>32</th>\n",
       "      <td>島根県</td>\n",
       "    </tr>\n",
       "    <tr>\n",
       "      <th>33</th>\n",
       "      <td>岡山県</td>\n",
       "    </tr>\n",
       "    <tr>\n",
       "      <th>34</th>\n",
       "      <td>広島県</td>\n",
       "    </tr>\n",
       "    <tr>\n",
       "      <th>35</th>\n",
       "      <td>山口県</td>\n",
       "    </tr>\n",
       "    <tr>\n",
       "      <th>36</th>\n",
       "      <td>徳島県</td>\n",
       "    </tr>\n",
       "    <tr>\n",
       "      <th>37</th>\n",
       "      <td>香川県</td>\n",
       "    </tr>\n",
       "    <tr>\n",
       "      <th>38</th>\n",
       "      <td>愛媛県</td>\n",
       "    </tr>\n",
       "    <tr>\n",
       "      <th>39</th>\n",
       "      <td>高知県</td>\n",
       "    </tr>\n",
       "    <tr>\n",
       "      <th>40</th>\n",
       "      <td>福岡県</td>\n",
       "    </tr>\n",
       "    <tr>\n",
       "      <th>41</th>\n",
       "      <td>佐賀県</td>\n",
       "    </tr>\n",
       "    <tr>\n",
       "      <th>42</th>\n",
       "      <td>長崎県</td>\n",
       "    </tr>\n",
       "    <tr>\n",
       "      <th>43</th>\n",
       "      <td>熊本県</td>\n",
       "    </tr>\n",
       "    <tr>\n",
       "      <th>44</th>\n",
       "      <td>大分県</td>\n",
       "    </tr>\n",
       "    <tr>\n",
       "      <th>45</th>\n",
       "      <td>宮崎県</td>\n",
       "    </tr>\n",
       "    <tr>\n",
       "      <th>46</th>\n",
       "      <td>鹿児島県</td>\n",
       "    </tr>\n",
       "    <tr>\n",
       "      <th>47</th>\n",
       "      <td>沖縄県</td>\n",
       "    </tr>\n",
       "  </tbody>\n",
       "</table>\n",
       "</div>"
      ],
      "text/plain": [
       "       都道府県名\n",
       "都道府県ID      \n",
       "1        北海道\n",
       "2        青森県\n",
       "3        岩手県\n",
       "4        宮城県\n",
       "5        秋田県\n",
       "6        山形県\n",
       "7        福島県\n",
       "8        茨城県\n",
       "9        栃木県\n",
       "10       群馬県\n",
       "11       埼玉県\n",
       "12       千葉県\n",
       "13       東京都\n",
       "14      神奈川県\n",
       "15       新潟県\n",
       "16       富山県\n",
       "17       石川県\n",
       "18       福井県\n",
       "19       山梨県\n",
       "20       長野県\n",
       "21       岐阜県\n",
       "22       静岡県\n",
       "23       愛知県\n",
       "24       三重県\n",
       "25       滋賀県\n",
       "26       京都府\n",
       "27       大阪府\n",
       "28       兵庫県\n",
       "29       奈良県\n",
       "30      和歌山県\n",
       "31       鳥取県\n",
       "32       島根県\n",
       "33       岡山県\n",
       "34       広島県\n",
       "35       山口県\n",
       "36       徳島県\n",
       "37       香川県\n",
       "38       愛媛県\n",
       "39       高知県\n",
       "40       福岡県\n",
       "41       佐賀県\n",
       "42       長崎県\n",
       "43       熊本県\n",
       "44       大分県\n",
       "45       宮崎県\n",
       "46      鹿児島県\n",
       "47       沖縄県"
      ]
     },
     "execution_count": 3,
     "metadata": {},
     "output_type": "execute_result"
    }
   ],
   "source": [
    "df_prefectures"
   ]
  },
  {
   "cell_type": "code",
   "execution_count": 4,
   "metadata": {},
   "outputs": [
    {
     "data": {
      "text/plain": [
       "都道府県名    北海道\n",
       "Name: 1, dtype: object"
      ]
     },
     "execution_count": 4,
     "metadata": {},
     "output_type": "execute_result"
    }
   ],
   "source": [
    "df_prefectures.loc[1,:]"
   ]
  },
  {
   "cell_type": "code",
   "execution_count": 5,
   "metadata": {},
   "outputs": [
    {
     "data": {
      "text/plain": [
       "'沖縄県'"
      ]
     },
     "execution_count": 5,
     "metadata": {},
     "output_type": "execute_result"
    }
   ],
   "source": [
    "df_prefectures.loc[47,\"都道府県名\"]"
   ]
  },
  {
   "cell_type": "code",
   "execution_count": 6,
   "metadata": {},
   "outputs": [
    {
     "name": "stdout",
     "output_type": "stream",
     "text": [
      "<class 'pandas.core.frame.DataFrame'>\n",
      "Index: 47 entries, 1 to 47\n",
      "Data columns (total 1 columns):\n",
      " #   Column  Non-Null Count  Dtype \n",
      "---  ------  --------------  ----- \n",
      " 0   都道府県名   47 non-null     object\n",
      "dtypes: object(1)\n",
      "memory usage: 1.8+ KB\n"
     ]
    }
   ],
   "source": [
    "df_prefectures.info()"
   ]
  },
  {
   "cell_type": "code",
   "execution_count": 7,
   "metadata": {},
   "outputs": [
    {
     "data": {
      "text/html": [
       "<div>\n",
       "<style scoped>\n",
       "    .dataframe tbody tr th:only-of-type {\n",
       "        vertical-align: middle;\n",
       "    }\n",
       "\n",
       "    .dataframe tbody tr th {\n",
       "        vertical-align: top;\n",
       "    }\n",
       "\n",
       "    .dataframe thead th {\n",
       "        text-align: right;\n",
       "    }\n",
       "</style>\n",
       "<table border=\"1\" class=\"dataframe\">\n",
       "  <thead>\n",
       "    <tr style=\"text-align: right;\">\n",
       "      <th></th>\n",
       "      <th>都道府県名</th>\n",
       "    </tr>\n",
       "  </thead>\n",
       "  <tbody>\n",
       "    <tr>\n",
       "      <th>count</th>\n",
       "      <td>47</td>\n",
       "    </tr>\n",
       "    <tr>\n",
       "      <th>unique</th>\n",
       "      <td>47</td>\n",
       "    </tr>\n",
       "    <tr>\n",
       "      <th>top</th>\n",
       "      <td>北海道</td>\n",
       "    </tr>\n",
       "    <tr>\n",
       "      <th>freq</th>\n",
       "      <td>1</td>\n",
       "    </tr>\n",
       "  </tbody>\n",
       "</table>\n",
       "</div>"
      ],
      "text/plain": [
       "       都道府県名\n",
       "count     47\n",
       "unique    47\n",
       "top      北海道\n",
       "freq       1"
      ]
     },
     "execution_count": 7,
     "metadata": {},
     "output_type": "execute_result"
    }
   ],
   "source": [
    "df_prefectures.describe()"
   ]
  },
  {
   "cell_type": "markdown",
   "metadata": {},
   "source": [
    "## 03. ワクチン接種データクラスの定義(0.5点)\n",
    "1. Vaccinationのクラス定義\n",
    "  - 以下のインスタンス変数を持つクラスを定義しましょう\n",
    "    - day  --- 日付\n",
    "    - prefecture_name  --- 都道府県名\n",
    "    - count  --- ワクチン接種数"
   ]
  },
  {
   "cell_type": "code",
   "execution_count": 8,
   "metadata": {},
   "outputs": [],
   "source": [
    "\n",
    "\n",
    "\n"
   ]
  },
  {
   "cell_type": "markdown",
   "metadata": {},
   "source": [
    "## 04. ワクチン接種データクラスの表示(0.5点)\n",
    "- インスタンス変数を表示するだけのプログラムを書いておきますので、プログラムを修正せずにクラス定義が表示されれば正解です\n",
    "  - 都道府県IDを指定して、都道府県名に変換して取得しておく点に気をつけましょう"
   ]
  },
  {
   "cell_type": "code",
   "execution_count": 9,
   "metadata": {},
   "outputs": [
    {
     "name": "stdout",
     "output_type": "stream",
     "text": [
      "2021-04-12\n",
      "北海道\n",
      "116\n"
     ]
    }
   ],
   "source": [
    "vaccination1 = Vaccination(\"2021-04-12\", 1,116) # 日付(2021-04-12)、北海道(都道府県ID＝1)、接種数(116件)\n",
    "print(vaccination1.day)\n",
    "print(vaccination1.prefecture_name)\n",
    "print(vaccination1.count)"
   ]
  },
  {
   "cell_type": "markdown",
   "metadata": {},
   "source": [
    "## 05. ワクチン接種データの読み込み(0.5点)\n",
    "1. GoogleDriveから ./data/vaccination_v2.csv を読み込みましょう\n",
    "  - csvで日付、都道府県ID、ワクチン接種数が定義されているため、DataFrameインスタンスに読み込みましょう\n",
    "    - ヒント：read_csv()関数で読込みできます。index_colは未指定とし、indexが自動で作られる指定をしましょう。\n",
    "  - 読み込んだ DataFrameインスタンスは df_vaccination という型の変数に格納してください。\n",
    "  - 日付は文字列型で読み込まれてしまうため、datetime64型に変換しましょう\n",
    "    - ヒント：to_datetime()で型を日付型に変換できます\n",
    "    - [参考サイト：to_datetime()](https://qiita.com/mSpring/items/6ec1ab28dcb261db2c73)"
   ]
  },
  {
   "cell_type": "code",
   "execution_count": 10,
   "metadata": {},
   "outputs": [],
   "source": [
    "# ワクチン接種情報をファイルからDataFrameに取得\n",
    "# df_vaccination という変数に格納します\n",
    "\n"
   ]
  },
  {
   "cell_type": "markdown",
   "metadata": {},
   "source": [
    "#### merge関数を使用してDataFrame同士を結合する\n",
    "- 以下の関数はそのまま実行して、都道府県IDをキーとしてDataFrame同士を結合しましょう\n",
    "- [参考サイト : merge関数](https://note.nkmk.me/python-pandas-merge-join/)"
   ]
  },
  {
   "cell_type": "code",
   "execution_count": 11,
   "metadata": {},
   "outputs": [],
   "source": [
    "# 以下の関数はそのまま実行して、都道府県IDをキーとしてDataFrame同士を結合しましょう\n",
    "# df_vaccination 変数に上書きで格納します\n",
    "df_vaccination = pd.merge(df_vaccination, df_prefectures, on='都道府県ID')"
   ]
  },
  {
   "cell_type": "markdown",
   "metadata": {},
   "source": [
    "## 06. ワクチン接種データの表示(0.5点)\n",
    "- 全ワクチン接種データの先頭5件と終端5件を表示するだけのプログラムを書いておきますので、プログラムを修正せずにデータが表示されれば正解です"
   ]
  },
  {
   "cell_type": "code",
   "execution_count": 12,
   "metadata": {},
   "outputs": [
    {
     "name": "stdout",
     "output_type": "stream",
     "text": [
      "データ件数＝ 4760\n"
     ]
    },
    {
     "data": {
      "text/html": [
       "<div>\n",
       "<style scoped>\n",
       "    .dataframe tbody tr th:only-of-type {\n",
       "        vertical-align: middle;\n",
       "    }\n",
       "\n",
       "    .dataframe tbody tr th {\n",
       "        vertical-align: top;\n",
       "    }\n",
       "\n",
       "    .dataframe thead th {\n",
       "        text-align: right;\n",
       "    }\n",
       "</style>\n",
       "<table border=\"1\" class=\"dataframe\">\n",
       "  <thead>\n",
       "    <tr style=\"text-align: right;\">\n",
       "      <th></th>\n",
       "      <th>日付</th>\n",
       "      <th>都道府県ID</th>\n",
       "      <th>ワクチン接種数</th>\n",
       "      <th>都道府県名</th>\n",
       "    </tr>\n",
       "  </thead>\n",
       "  <tbody>\n",
       "    <tr>\n",
       "      <th>0</th>\n",
       "      <td>2021-04-12</td>\n",
       "      <td>1</td>\n",
       "      <td>283</td>\n",
       "      <td>北海道</td>\n",
       "    </tr>\n",
       "    <tr>\n",
       "      <th>1</th>\n",
       "      <td>2021-04-13</td>\n",
       "      <td>1</td>\n",
       "      <td>317</td>\n",
       "      <td>北海道</td>\n",
       "    </tr>\n",
       "    <tr>\n",
       "      <th>2</th>\n",
       "      <td>2021-04-14</td>\n",
       "      <td>1</td>\n",
       "      <td>264</td>\n",
       "      <td>北海道</td>\n",
       "    </tr>\n",
       "    <tr>\n",
       "      <th>3</th>\n",
       "      <td>2021-04-15</td>\n",
       "      <td>1</td>\n",
       "      <td>753</td>\n",
       "      <td>北海道</td>\n",
       "    </tr>\n",
       "    <tr>\n",
       "      <th>4</th>\n",
       "      <td>2021-04-16</td>\n",
       "      <td>1</td>\n",
       "      <td>1082</td>\n",
       "      <td>北海道</td>\n",
       "    </tr>\n",
       "    <tr>\n",
       "      <th>4755</th>\n",
       "      <td>2021-07-18</td>\n",
       "      <td>31</td>\n",
       "      <td>5625</td>\n",
       "      <td>鳥取県</td>\n",
       "    </tr>\n",
       "    <tr>\n",
       "      <th>4756</th>\n",
       "      <td>2021-07-19</td>\n",
       "      <td>31</td>\n",
       "      <td>3214</td>\n",
       "      <td>鳥取県</td>\n",
       "    </tr>\n",
       "    <tr>\n",
       "      <th>4757</th>\n",
       "      <td>2021-07-20</td>\n",
       "      <td>31</td>\n",
       "      <td>4585</td>\n",
       "      <td>鳥取県</td>\n",
       "    </tr>\n",
       "    <tr>\n",
       "      <th>4758</th>\n",
       "      <td>2021-07-21</td>\n",
       "      <td>31</td>\n",
       "      <td>4238</td>\n",
       "      <td>鳥取県</td>\n",
       "    </tr>\n",
       "    <tr>\n",
       "      <th>4759</th>\n",
       "      <td>2021-07-22</td>\n",
       "      <td>31</td>\n",
       "      <td>1247</td>\n",
       "      <td>鳥取県</td>\n",
       "    </tr>\n",
       "  </tbody>\n",
       "</table>\n",
       "</div>"
      ],
      "text/plain": [
       "             日付  都道府県ID  ワクチン接種数 都道府県名\n",
       "0    2021-04-12       1      283   北海道\n",
       "1    2021-04-13       1      317   北海道\n",
       "2    2021-04-14       1      264   北海道\n",
       "3    2021-04-15       1      753   北海道\n",
       "4    2021-04-16       1     1082   北海道\n",
       "4755 2021-07-18      31     5625   鳥取県\n",
       "4756 2021-07-19      31     3214   鳥取県\n",
       "4757 2021-07-20      31     4585   鳥取県\n",
       "4758 2021-07-21      31     4238   鳥取県\n",
       "4759 2021-07-22      31     1247   鳥取県"
      ]
     },
     "execution_count": 12,
     "metadata": {},
     "output_type": "execute_result"
    }
   ],
   "source": [
    "print(\"データ件数＝\", len(df_vaccination))\n",
    "\n",
    "pd.concat([df_vaccination.head(),df_vaccination.tail()])"
   ]
  },
  {
   "cell_type": "code",
   "execution_count": 13,
   "metadata": {},
   "outputs": [
    {
     "name": "stdout",
     "output_type": "stream",
     "text": [
      "<class 'pandas.core.frame.DataFrame'>\n",
      "RangeIndex: 4760 entries, 0 to 4759\n",
      "Data columns (total 4 columns):\n",
      " #   Column   Non-Null Count  Dtype         \n",
      "---  ------   --------------  -----         \n",
      " 0   日付       4760 non-null   datetime64[ns]\n",
      " 1   都道府県ID   4760 non-null   int64         \n",
      " 2   ワクチン接種数  4760 non-null   int64         \n",
      " 3   都道府県名    4760 non-null   object        \n",
      "dtypes: datetime64[ns](1), int64(2), object(1)\n",
      "memory usage: 148.9+ KB\n"
     ]
    }
   ],
   "source": [
    "df_vaccination.info()"
   ]
  },
  {
   "cell_type": "code",
   "execution_count": 14,
   "metadata": {},
   "outputs": [
    {
     "data": {
      "text/html": [
       "<div>\n",
       "<style scoped>\n",
       "    .dataframe tbody tr th:only-of-type {\n",
       "        vertical-align: middle;\n",
       "    }\n",
       "\n",
       "    .dataframe tbody tr th {\n",
       "        vertical-align: top;\n",
       "    }\n",
       "\n",
       "    .dataframe thead th {\n",
       "        text-align: right;\n",
       "    }\n",
       "</style>\n",
       "<table border=\"1\" class=\"dataframe\">\n",
       "  <thead>\n",
       "    <tr style=\"text-align: right;\">\n",
       "      <th></th>\n",
       "      <th>日付</th>\n",
       "      <th>都道府県ID</th>\n",
       "      <th>ワクチン接種数</th>\n",
       "    </tr>\n",
       "  </thead>\n",
       "  <tbody>\n",
       "    <tr>\n",
       "      <th>count</th>\n",
       "      <td>4760</td>\n",
       "      <td>4760.000000</td>\n",
       "      <td>4760.000000</td>\n",
       "    </tr>\n",
       "    <tr>\n",
       "      <th>mean</th>\n",
       "      <td>2021-06-01 18:32:58.487394816</td>\n",
       "      <td>23.996008</td>\n",
       "      <td>13405.127101</td>\n",
       "    </tr>\n",
       "    <tr>\n",
       "      <th>min</th>\n",
       "      <td>2021-04-12 00:00:00</td>\n",
       "      <td>1.000000</td>\n",
       "      <td>1.000000</td>\n",
       "    </tr>\n",
       "    <tr>\n",
       "      <th>25%</th>\n",
       "      <td>2021-05-08 00:00:00</td>\n",
       "      <td>12.000000</td>\n",
       "      <td>1607.000000</td>\n",
       "    </tr>\n",
       "    <tr>\n",
       "      <th>50%</th>\n",
       "      <td>2021-06-02 00:00:00</td>\n",
       "      <td>24.000000</td>\n",
       "      <td>7442.500000</td>\n",
       "    </tr>\n",
       "    <tr>\n",
       "      <th>75%</th>\n",
       "      <td>2021-06-27 00:00:00</td>\n",
       "      <td>36.000000</td>\n",
       "      <td>15866.500000</td>\n",
       "    </tr>\n",
       "    <tr>\n",
       "      <th>max</th>\n",
       "      <td>2021-07-22 00:00:00</td>\n",
       "      <td>47.000000</td>\n",
       "      <td>152137.000000</td>\n",
       "    </tr>\n",
       "    <tr>\n",
       "      <th>std</th>\n",
       "      <td>NaN</td>\n",
       "      <td>13.566139</td>\n",
       "      <td>18858.498228</td>\n",
       "    </tr>\n",
       "  </tbody>\n",
       "</table>\n",
       "</div>"
      ],
      "text/plain": [
       "                                  日付       都道府県ID        ワクチン接種数\n",
       "count                           4760  4760.000000    4760.000000\n",
       "mean   2021-06-01 18:32:58.487394816    23.996008   13405.127101\n",
       "min              2021-04-12 00:00:00     1.000000       1.000000\n",
       "25%              2021-05-08 00:00:00    12.000000    1607.000000\n",
       "50%              2021-06-02 00:00:00    24.000000    7442.500000\n",
       "75%              2021-06-27 00:00:00    36.000000   15866.500000\n",
       "max              2021-07-22 00:00:00    47.000000  152137.000000\n",
       "std                              NaN    13.566139   18858.498228"
      ]
     },
     "execution_count": 14,
     "metadata": {},
     "output_type": "execute_result"
    }
   ],
   "source": [
    "df_vaccination.describe()"
   ]
  },
  {
   "cell_type": "markdown",
   "metadata": {},
   "source": [
    "## 07. ユーザー定義関数の作成(0.5点)\n",
    "1. 日付と都道府県名を指定したらワクチン接種数を返すユーザー定義関数を作成してください\n",
    "  - ユーザー定義関数名はgetVaccinationCountとします\n",
    "  - DataFrameから複数条件を指定して値を取り出すには、[ブーリアンインデックス]((https://note.nkmk.me/python-pandas-multiple-conditions/)を使いましょう\n",
    "  - 日付文字列を日付型に変換するには、[strptime()](https://note.nkmk.me/python-datetime-usage/)を使用しましょう\n",
    "2. 条件を指定して取り出した1行のDataFrameからワクチン接種数を取り出すには、iloc関数を使って　`.iloc[0,:][\"ワクチン接種数\"]` のように指定するとできます。\n",
    "  - [iloc 参考サイト](https://note.nkmk.me/python-pandas-at-iat-loc-iloc/)\n",
    "  - iat関数など他の方法を使用してもOKです"
   ]
  },
  {
   "cell_type": "code",
   "execution_count": 15,
   "metadata": {},
   "outputs": [],
   "source": [
    "import datetime as dt\n",
    "\n",
    "\n",
    "\n",
    "\n"
   ]
  },
  {
   "cell_type": "markdown",
   "metadata": {},
   "source": [
    "## 08. ワクチン接種数を返すユーザー定義関数の使用(0.5点)\n",
    "- ワクチン接種数を何件か表示するだけのプログラムを書いておきますので、プログラムを修正せずに出力結果が同じであれば正解です。"
   ]
  },
  {
   "cell_type": "code",
   "execution_count": 16,
   "metadata": {},
   "outputs": [
    {
     "data": {
      "text/plain": [
       "3045"
      ]
     },
     "execution_count": 16,
     "metadata": {},
     "output_type": "execute_result"
    }
   ],
   "source": [
    "getVaccinationCount(\"2021-05-11\",\"高知県\")"
   ]
  },
  {
   "cell_type": "code",
   "execution_count": 17,
   "metadata": {},
   "outputs": [
    {
     "name": "stdout",
     "output_type": "stream",
     "text": [
      "OK! 2021-06-24 宮崎県 11994\n",
      "OK! 2021-05-08 高知県 2966\n",
      "OK! 2021-05-12 北海道 8827\n",
      "OK! 2021-05-23 和歌山県 5850\n",
      "OK! 2021-05-11 高知県 3045\n",
      "OK! 2021-06-09 香川県 7967\n",
      "OK! 2021-04-19 新潟県 370\n",
      "OK! 2021-07-09 静岡県 32609\n",
      "OK! 2021-06-22 新潟県 20737\n",
      "OK! 2021-04-26 富山県 1191\n"
     ]
    }
   ],
   "source": [
    "# 10件表示\n",
    "validation_list = [\n",
    "    Vaccination(\"2021-06-24\", 45, 11994),\n",
    "    Vaccination(\"2021-05-08\", 39, 2966),\n",
    "    Vaccination(\"2021-05-12\", 1, 8827),\n",
    "    Vaccination(\"2021-05-23\", 30, 5850),\n",
    "    Vaccination(\"2021-05-11\", 39, 3045),\n",
    "    Vaccination(\"2021-06-09\", 37, 7967),\n",
    "    Vaccination(\"2021-04-19\", 15, 370),\n",
    "    Vaccination(\"2021-07-09\", 22, 32609),\n",
    "    Vaccination(\"2021-06-22\", 15, 20737),\n",
    "    Vaccination(\"2021-04-26\", 16, 1191),\n",
    "]\n",
    "\n",
    "for validation1 in validation_list:\n",
    "    if getVaccinationCount(validation1.day, validation1.prefecture_name) == validation1.count:\n",
    "        print('OK!', validation1.day, validation1.prefecture_name, validation1.count)\n",
    "    else:\n",
    "        print('Error!')"
   ]
  },
  {
   "cell_type": "code",
   "execution_count": 18,
   "metadata": {},
   "outputs": [],
   "source": [
    "# 全件検証\n",
    "for index, validation1 in df_vaccination.iterrows():\n",
    "    if getVaccinationCount(validation1[\"日付\"].strftime('%Y-%m-%d'), validation1[\"都道府県名\"]) != validation1[\"ワクチン接種数\"]:\n",
    "        print('Error!', validation1[\"日付\"].str, validation1[\"都道府県名\"], validation1[\"ワクチン接種数\"])"
   ]
  },
  {
   "cell_type": "markdown",
   "metadata": {},
   "source": [
    "## 09. 特定日付の都道府県ごとのワクチン接種数をsortして返すユーザー定義関数の作成(0.5点)\n",
    "1. 特定日付の都道府県名ごとのワクチン接種数をsortして返すユーザー定義関数を作成してください\n",
    "  - ユーザー定義関数名は sortPrefectureVaccinationsByDate とします"
   ]
  },
  {
   "cell_type": "code",
   "execution_count": 19,
   "metadata": {},
   "outputs": [],
   "source": [
    "\n",
    "\n"
   ]
  },
  {
   "cell_type": "markdown",
   "metadata": {},
   "source": [
    "## 10. 特定日付の都道府県ごとのワクチン接種数をsortして返すユーザー定義関数の使用(0.5点)\n",
    "- 特定日付の都道府県ごとのワクチン接種数を先頭５件と終端５件だけ表示するプログラムを書いておきますので、プログラムを修正せずに出力結果が同じであれば正解です。"
   ]
  },
  {
   "cell_type": "code",
   "execution_count": 20,
   "metadata": {},
   "outputs": [
    {
     "name": "stdout",
     "output_type": "stream",
     "text": [
      "データ件数＝ 47\n"
     ]
    },
    {
     "data": {
      "text/html": [
       "<div>\n",
       "<style scoped>\n",
       "    .dataframe tbody tr th:only-of-type {\n",
       "        vertical-align: middle;\n",
       "    }\n",
       "\n",
       "    .dataframe tbody tr th {\n",
       "        vertical-align: top;\n",
       "    }\n",
       "\n",
       "    .dataframe thead th {\n",
       "        text-align: right;\n",
       "    }\n",
       "</style>\n",
       "<table border=\"1\" class=\"dataframe\">\n",
       "  <thead>\n",
       "    <tr style=\"text-align: right;\">\n",
       "      <th></th>\n",
       "      <th>日付</th>\n",
       "      <th>都道府県ID</th>\n",
       "      <th>ワクチン接種数</th>\n",
       "      <th>都道府県名</th>\n",
       "    </tr>\n",
       "  </thead>\n",
       "  <tbody>\n",
       "    <tr>\n",
       "      <th>4731</th>\n",
       "      <td>2021-06-24</td>\n",
       "      <td>31</td>\n",
       "      <td>5211</td>\n",
       "      <td>鳥取県</td>\n",
       "    </tr>\n",
       "    <tr>\n",
       "      <th>2410</th>\n",
       "      <td>2021-06-24</td>\n",
       "      <td>32</td>\n",
       "      <td>7130</td>\n",
       "      <td>島根県</td>\n",
       "    </tr>\n",
       "    <tr>\n",
       "      <th>3016</th>\n",
       "      <td>2021-06-24</td>\n",
       "      <td>39</td>\n",
       "      <td>7891</td>\n",
       "      <td>高知県</td>\n",
       "    </tr>\n",
       "    <tr>\n",
       "      <th>2712</th>\n",
       "      <td>2021-06-24</td>\n",
       "      <td>36</td>\n",
       "      <td>7919</td>\n",
       "      <td>徳島県</td>\n",
       "    </tr>\n",
       "    <tr>\n",
       "      <th>4634</th>\n",
       "      <td>2021-06-24</td>\n",
       "      <td>19</td>\n",
       "      <td>8555</td>\n",
       "      <td>山梨県</td>\n",
       "    </tr>\n",
       "    <tr>\n",
       "      <th>2007</th>\n",
       "      <td>2021-06-24</td>\n",
       "      <td>28</td>\n",
       "      <td>62290</td>\n",
       "      <td>兵庫県</td>\n",
       "    </tr>\n",
       "    <tr>\n",
       "      <th>277</th>\n",
       "      <td>2021-06-24</td>\n",
       "      <td>11</td>\n",
       "      <td>69093</td>\n",
       "      <td>埼玉県</td>\n",
       "    </tr>\n",
       "    <tr>\n",
       "      <th>1905</th>\n",
       "      <td>2021-06-24</td>\n",
       "      <td>27</td>\n",
       "      <td>82874</td>\n",
       "      <td>大阪府</td>\n",
       "    </tr>\n",
       "    <tr>\n",
       "      <th>583</th>\n",
       "      <td>2021-06-24</td>\n",
       "      <td>14</td>\n",
       "      <td>84367</td>\n",
       "      <td>神奈川県</td>\n",
       "    </tr>\n",
       "    <tr>\n",
       "      <th>481</th>\n",
       "      <td>2021-06-24</td>\n",
       "      <td>13</td>\n",
       "      <td>109624</td>\n",
       "      <td>東京都</td>\n",
       "    </tr>\n",
       "  </tbody>\n",
       "</table>\n",
       "</div>"
      ],
      "text/plain": [
       "             日付  都道府県ID  ワクチン接種数 都道府県名\n",
       "4731 2021-06-24      31     5211   鳥取県\n",
       "2410 2021-06-24      32     7130   島根県\n",
       "3016 2021-06-24      39     7891   高知県\n",
       "2712 2021-06-24      36     7919   徳島県\n",
       "4634 2021-06-24      19     8555   山梨県\n",
       "2007 2021-06-24      28    62290   兵庫県\n",
       "277  2021-06-24      11    69093   埼玉県\n",
       "1905 2021-06-24      27    82874   大阪府\n",
       "583  2021-06-24      14    84367  神奈川県\n",
       "481  2021-06-24      13   109624   東京都"
      ]
     },
     "execution_count": 20,
     "metadata": {},
     "output_type": "execute_result"
    }
   ],
   "source": [
    "df_vaccinations2021_0624 = sortPrefectureVaccinationsByDate(\"2021-06-24\")\n",
    "print(\"データ件数＝\", len(df_vaccinations2021_0624))\n",
    "\n",
    "pd.concat([df_vaccinations2021_0624.head(), df_vaccinations2021_0624.tail()])"
   ]
  },
  {
   "cell_type": "code",
   "execution_count": 21,
   "metadata": {},
   "outputs": [
    {
     "data": {
      "text/html": [
       "<div>\n",
       "<style scoped>\n",
       "    .dataframe tbody tr th:only-of-type {\n",
       "        vertical-align: middle;\n",
       "    }\n",
       "\n",
       "    .dataframe tbody tr th {\n",
       "        vertical-align: top;\n",
       "    }\n",
       "\n",
       "    .dataframe thead th {\n",
       "        text-align: right;\n",
       "    }\n",
       "</style>\n",
       "<table border=\"1\" class=\"dataframe\">\n",
       "  <thead>\n",
       "    <tr style=\"text-align: right;\">\n",
       "      <th></th>\n",
       "      <th>日付</th>\n",
       "      <th>都道府県ID</th>\n",
       "      <th>ワクチン接種数</th>\n",
       "    </tr>\n",
       "  </thead>\n",
       "  <tbody>\n",
       "    <tr>\n",
       "      <th>count</th>\n",
       "      <td>47</td>\n",
       "      <td>47.000000</td>\n",
       "      <td>47.000000</td>\n",
       "    </tr>\n",
       "    <tr>\n",
       "      <th>mean</th>\n",
       "      <td>2021-06-24 00:00:00</td>\n",
       "      <td>24.000000</td>\n",
       "      <td>26218.914894</td>\n",
       "    </tr>\n",
       "    <tr>\n",
       "      <th>min</th>\n",
       "      <td>2021-06-24 00:00:00</td>\n",
       "      <td>1.000000</td>\n",
       "      <td>5211.000000</td>\n",
       "    </tr>\n",
       "    <tr>\n",
       "      <th>25%</th>\n",
       "      <td>2021-06-24 00:00:00</td>\n",
       "      <td>12.500000</td>\n",
       "      <td>11388.000000</td>\n",
       "    </tr>\n",
       "    <tr>\n",
       "      <th>50%</th>\n",
       "      <td>2021-06-24 00:00:00</td>\n",
       "      <td>24.000000</td>\n",
       "      <td>17607.000000</td>\n",
       "    </tr>\n",
       "    <tr>\n",
       "      <th>75%</th>\n",
       "      <td>2021-06-24 00:00:00</td>\n",
       "      <td>35.500000</td>\n",
       "      <td>25517.000000</td>\n",
       "    </tr>\n",
       "    <tr>\n",
       "      <th>max</th>\n",
       "      <td>2021-06-24 00:00:00</td>\n",
       "      <td>47.000000</td>\n",
       "      <td>109624.000000</td>\n",
       "    </tr>\n",
       "    <tr>\n",
       "      <th>std</th>\n",
       "      <td>NaN</td>\n",
       "      <td>13.711309</td>\n",
       "      <td>23927.253031</td>\n",
       "    </tr>\n",
       "  </tbody>\n",
       "</table>\n",
       "</div>"
      ],
      "text/plain": [
       "                        日付     都道府県ID        ワクチン接種数\n",
       "count                   47  47.000000      47.000000\n",
       "mean   2021-06-24 00:00:00  24.000000   26218.914894\n",
       "min    2021-06-24 00:00:00   1.000000    5211.000000\n",
       "25%    2021-06-24 00:00:00  12.500000   11388.000000\n",
       "50%    2021-06-24 00:00:00  24.000000   17607.000000\n",
       "75%    2021-06-24 00:00:00  35.500000   25517.000000\n",
       "max    2021-06-24 00:00:00  47.000000  109624.000000\n",
       "std                    NaN  13.711309   23927.253031"
      ]
     },
     "execution_count": 21,
     "metadata": {},
     "output_type": "execute_result"
    }
   ],
   "source": [
    "df_vaccinations2021_0624.describe()"
   ]
  },
  {
   "cell_type": "markdown",
   "metadata": {},
   "source": [
    "## 11. 沖縄県のワクチン接種データクラスの定義(0.5点)\n",
    "1. OkinawaVaccination のクラス定義\n",
    "  - Vaccinationクラスを継承して定義しましょう\n",
    "  - 初期化メソッドはprefecture_nameは渡さずにオーバーライドして作成しましょう。\n",
    "  - スーパークラスの初期化メソッドを呼び出すようにしましょう。\n",
    "  - スーパークラスの初期化メソッドを呼び出す際には、prefecture_idは沖縄県の県IDを使用しましょう。"
   ]
  },
  {
   "cell_type": "code",
   "execution_count": 22,
   "metadata": {},
   "outputs": [],
   "source": [
    "\n",
    "\n"
   ]
  },
  {
   "cell_type": "markdown",
   "metadata": {},
   "source": [
    "## 12. 沖縄県のワクチン接種データクラスの表示(0.5点)\n",
    "- インスタンス変数を表示するだけのプログラムを書いておきますので、プログラムを修正せずにクラス定義が表示されれば正解です"
   ]
  },
  {
   "cell_type": "code",
   "execution_count": 23,
   "metadata": {},
   "outputs": [
    {
     "name": "stdout",
     "output_type": "stream",
     "text": [
      "2021-04-12\n",
      "沖縄県\n",
      "49\n"
     ]
    }
   ],
   "source": [
    "okinawa_vaccination1 = OkinawaVaccination(\"2021-04-12\", 49) # 日付(2021-04-12)、接種数(49件)\n",
    "print(okinawa_vaccination1.day)\n",
    "print(okinawa_vaccination1.prefecture_name)\n",
    "print(okinawa_vaccination1.count)"
   ]
  },
  {
   "cell_type": "markdown",
   "metadata": {},
   "source": [
    "## 13. 沖縄県のワクチン接種データリストの作成(0.5点)\n",
    "1. 沖縄県のワクチン接種データリストを作成し、df_okinawa_vaccination という変数に格納しましょう。\n",
    "  - DataFrameから複数条件を指定して値を取り出すには、[ブーリアンインデックス]((https://note.nkmk.me/python-pandas-multiple-conditions/)を使いましょう"
   ]
  },
  {
   "cell_type": "code",
   "execution_count": 24,
   "metadata": {},
   "outputs": [],
   "source": []
  },
  {
   "cell_type": "markdown",
   "metadata": {},
   "source": [
    "## 14. 沖縄県のワクチン接種データの表示(0.5点)\n",
    "- 沖縄県の全ワクチン接種データの先頭5件と終端5件を表示するだけのプログラムを書いておきますので、プログラムを修正せずにデータが表示されれば正解です"
   ]
  },
  {
   "cell_type": "code",
   "execution_count": 25,
   "metadata": {},
   "outputs": [
    {
     "name": "stdout",
     "output_type": "stream",
     "text": [
      "データ件数＝ 102\n"
     ]
    },
    {
     "data": {
      "text/html": [
       "<div>\n",
       "<style scoped>\n",
       "    .dataframe tbody tr th:only-of-type {\n",
       "        vertical-align: middle;\n",
       "    }\n",
       "\n",
       "    .dataframe tbody tr th {\n",
       "        vertical-align: top;\n",
       "    }\n",
       "\n",
       "    .dataframe thead th {\n",
       "        text-align: right;\n",
       "    }\n",
       "</style>\n",
       "<table border=\"1\" class=\"dataframe\">\n",
       "  <thead>\n",
       "    <tr style=\"text-align: right;\">\n",
       "      <th></th>\n",
       "      <th>日付</th>\n",
       "      <th>都道府県ID</th>\n",
       "      <th>ワクチン接種数</th>\n",
       "      <th>都道府県名</th>\n",
       "    </tr>\n",
       "  </thead>\n",
       "  <tbody>\n",
       "    <tr>\n",
       "      <th>3857</th>\n",
       "      <td>2021-04-12</td>\n",
       "      <td>47</td>\n",
       "      <td>49</td>\n",
       "      <td>沖縄県</td>\n",
       "    </tr>\n",
       "    <tr>\n",
       "      <th>3858</th>\n",
       "      <td>2021-04-13</td>\n",
       "      <td>47</td>\n",
       "      <td>48</td>\n",
       "      <td>沖縄県</td>\n",
       "    </tr>\n",
       "    <tr>\n",
       "      <th>3859</th>\n",
       "      <td>2021-04-14</td>\n",
       "      <td>47</td>\n",
       "      <td>72</td>\n",
       "      <td>沖縄県</td>\n",
       "    </tr>\n",
       "    <tr>\n",
       "      <th>3860</th>\n",
       "      <td>2021-04-15</td>\n",
       "      <td>47</td>\n",
       "      <td>195</td>\n",
       "      <td>沖縄県</td>\n",
       "    </tr>\n",
       "    <tr>\n",
       "      <th>3861</th>\n",
       "      <td>2021-04-16</td>\n",
       "      <td>47</td>\n",
       "      <td>246</td>\n",
       "      <td>沖縄県</td>\n",
       "    </tr>\n",
       "    <tr>\n",
       "      <th>3954</th>\n",
       "      <td>2021-07-18</td>\n",
       "      <td>47</td>\n",
       "      <td>15058</td>\n",
       "      <td>沖縄県</td>\n",
       "    </tr>\n",
       "    <tr>\n",
       "      <th>3955</th>\n",
       "      <td>2021-07-19</td>\n",
       "      <td>47</td>\n",
       "      <td>6969</td>\n",
       "      <td>沖縄県</td>\n",
       "    </tr>\n",
       "    <tr>\n",
       "      <th>3956</th>\n",
       "      <td>2021-07-20</td>\n",
       "      <td>47</td>\n",
       "      <td>6414</td>\n",
       "      <td>沖縄県</td>\n",
       "    </tr>\n",
       "    <tr>\n",
       "      <th>3957</th>\n",
       "      <td>2021-07-21</td>\n",
       "      <td>47</td>\n",
       "      <td>3199</td>\n",
       "      <td>沖縄県</td>\n",
       "    </tr>\n",
       "    <tr>\n",
       "      <th>3958</th>\n",
       "      <td>2021-07-22</td>\n",
       "      <td>47</td>\n",
       "      <td>4619</td>\n",
       "      <td>沖縄県</td>\n",
       "    </tr>\n",
       "  </tbody>\n",
       "</table>\n",
       "</div>"
      ],
      "text/plain": [
       "             日付  都道府県ID  ワクチン接種数 都道府県名\n",
       "3857 2021-04-12      47       49   沖縄県\n",
       "3858 2021-04-13      47       48   沖縄県\n",
       "3859 2021-04-14      47       72   沖縄県\n",
       "3860 2021-04-15      47      195   沖縄県\n",
       "3861 2021-04-16      47      246   沖縄県\n",
       "3954 2021-07-18      47    15058   沖縄県\n",
       "3955 2021-07-19      47     6969   沖縄県\n",
       "3956 2021-07-20      47     6414   沖縄県\n",
       "3957 2021-07-21      47     3199   沖縄県\n",
       "3958 2021-07-22      47     4619   沖縄県"
      ]
     },
     "execution_count": 25,
     "metadata": {},
     "output_type": "execute_result"
    }
   ],
   "source": [
    "print(\"データ件数＝\", len(df_okinawa_vaccination))\n",
    "\n",
    "pd.concat([df_okinawa_vaccination.head(), df_okinawa_vaccination.tail()])"
   ]
  },
  {
   "cell_type": "code",
   "execution_count": 26,
   "metadata": {},
   "outputs": [
    {
     "data": {
      "text/html": [
       "<div>\n",
       "<style scoped>\n",
       "    .dataframe tbody tr th:only-of-type {\n",
       "        vertical-align: middle;\n",
       "    }\n",
       "\n",
       "    .dataframe tbody tr th {\n",
       "        vertical-align: top;\n",
       "    }\n",
       "\n",
       "    .dataframe thead th {\n",
       "        text-align: right;\n",
       "    }\n",
       "</style>\n",
       "<table border=\"1\" class=\"dataframe\">\n",
       "  <thead>\n",
       "    <tr style=\"text-align: right;\">\n",
       "      <th></th>\n",
       "      <th>日付</th>\n",
       "      <th>都道府県ID</th>\n",
       "      <th>ワクチン接種数</th>\n",
       "    </tr>\n",
       "  </thead>\n",
       "  <tbody>\n",
       "    <tr>\n",
       "      <th>count</th>\n",
       "      <td>102</td>\n",
       "      <td>102.0</td>\n",
       "      <td>102.000000</td>\n",
       "    </tr>\n",
       "    <tr>\n",
       "      <th>mean</th>\n",
       "      <td>2021-06-01 12:00:00</td>\n",
       "      <td>47.0</td>\n",
       "      <td>5618.303922</td>\n",
       "    </tr>\n",
       "    <tr>\n",
       "      <th>min</th>\n",
       "      <td>2021-04-12 00:00:00</td>\n",
       "      <td>47.0</td>\n",
       "      <td>35.000000</td>\n",
       "    </tr>\n",
       "    <tr>\n",
       "      <th>25%</th>\n",
       "      <td>2021-05-07 06:00:00</td>\n",
       "      <td>47.0</td>\n",
       "      <td>1092.500000</td>\n",
       "    </tr>\n",
       "    <tr>\n",
       "      <th>50%</th>\n",
       "      <td>2021-06-01 12:00:00</td>\n",
       "      <td>47.0</td>\n",
       "      <td>4465.000000</td>\n",
       "    </tr>\n",
       "    <tr>\n",
       "      <th>75%</th>\n",
       "      <td>2021-06-26 18:00:00</td>\n",
       "      <td>47.0</td>\n",
       "      <td>9392.000000</td>\n",
       "    </tr>\n",
       "    <tr>\n",
       "      <th>max</th>\n",
       "      <td>2021-07-22 00:00:00</td>\n",
       "      <td>47.0</td>\n",
       "      <td>15135.000000</td>\n",
       "    </tr>\n",
       "    <tr>\n",
       "      <th>std</th>\n",
       "      <td>NaN</td>\n",
       "      <td>0.0</td>\n",
       "      <td>4730.472806</td>\n",
       "    </tr>\n",
       "  </tbody>\n",
       "</table>\n",
       "</div>"
      ],
      "text/plain": [
       "                        日付  都道府県ID       ワクチン接種数\n",
       "count                  102   102.0    102.000000\n",
       "mean   2021-06-01 12:00:00    47.0   5618.303922\n",
       "min    2021-04-12 00:00:00    47.0     35.000000\n",
       "25%    2021-05-07 06:00:00    47.0   1092.500000\n",
       "50%    2021-06-01 12:00:00    47.0   4465.000000\n",
       "75%    2021-06-26 18:00:00    47.0   9392.000000\n",
       "max    2021-07-22 00:00:00    47.0  15135.000000\n",
       "std                    NaN     0.0   4730.472806"
      ]
     },
     "execution_count": 26,
     "metadata": {},
     "output_type": "execute_result"
    }
   ],
   "source": [
    "df_okinawa_vaccination.describe()"
   ]
  },
  {
   "cell_type": "markdown",
   "metadata": {},
   "source": [
    "## 15. 沖縄県のワクチン接種データの書き込み(0.5点)\n",
    "1. 作成した沖縄県のワクチン接種データを ./data/okinawa_vaccination_v2.csv に出力しましょう\n",
    "  - header付きで出力しましょう。\n",
    "  - 日付、ワクチン接種数を出力しましょう。インデックス、都道府県ID、都道府県名は不要です。\n",
    "  - pandasの[to_csv()関数](https://note.nkmk.me/python-pandas-to-csv/)を使用して出力しましょう。\n",
    "    - index引数をFalseにするとインデックスなしで出力できます\n",
    "    - columns引数を指定すると出力する列を指定できます\n",
    "    - 詳しくは参考サイトを参照ください"
   ]
  },
  {
   "cell_type": "code",
   "execution_count": 27,
   "metadata": {},
   "outputs": [],
   "source": [
    "# ファイル出力\n"
   ]
  },
  {
   "cell_type": "markdown",
   "metadata": {},
   "source": [
    "## 16. 沖縄県のワクチン接種データの読み込みと表示(0.5点)\n",
    "- 沖縄県の全ワクチン接種データを読み込んで、一部を表示するプログラムを書いておきます。\n",
    "- プログラムを修正せずに同じデータが表示されれば正解です"
   ]
  },
  {
   "cell_type": "code",
   "execution_count": 28,
   "metadata": {},
   "outputs": [
    {
     "data": {
      "text/html": [
       "<div>\n",
       "<style scoped>\n",
       "    .dataframe tbody tr th:only-of-type {\n",
       "        vertical-align: middle;\n",
       "    }\n",
       "\n",
       "    .dataframe tbody tr th {\n",
       "        vertical-align: top;\n",
       "    }\n",
       "\n",
       "    .dataframe thead th {\n",
       "        text-align: right;\n",
       "    }\n",
       "</style>\n",
       "<table border=\"1\" class=\"dataframe\">\n",
       "  <thead>\n",
       "    <tr style=\"text-align: right;\">\n",
       "      <th></th>\n",
       "      <th>日付</th>\n",
       "      <th>ワクチン接種数</th>\n",
       "    </tr>\n",
       "  </thead>\n",
       "  <tbody>\n",
       "    <tr>\n",
       "      <th>0</th>\n",
       "      <td>2021-04-12</td>\n",
       "      <td>49</td>\n",
       "    </tr>\n",
       "    <tr>\n",
       "      <th>1</th>\n",
       "      <td>2021-04-13</td>\n",
       "      <td>48</td>\n",
       "    </tr>\n",
       "    <tr>\n",
       "      <th>2</th>\n",
       "      <td>2021-04-14</td>\n",
       "      <td>72</td>\n",
       "    </tr>\n",
       "    <tr>\n",
       "      <th>3</th>\n",
       "      <td>2021-04-15</td>\n",
       "      <td>195</td>\n",
       "    </tr>\n",
       "    <tr>\n",
       "      <th>4</th>\n",
       "      <td>2021-04-16</td>\n",
       "      <td>246</td>\n",
       "    </tr>\n",
       "    <tr>\n",
       "      <th>97</th>\n",
       "      <td>2021-07-18</td>\n",
       "      <td>15058</td>\n",
       "    </tr>\n",
       "    <tr>\n",
       "      <th>98</th>\n",
       "      <td>2021-07-19</td>\n",
       "      <td>6969</td>\n",
       "    </tr>\n",
       "    <tr>\n",
       "      <th>99</th>\n",
       "      <td>2021-07-20</td>\n",
       "      <td>6414</td>\n",
       "    </tr>\n",
       "    <tr>\n",
       "      <th>100</th>\n",
       "      <td>2021-07-21</td>\n",
       "      <td>3199</td>\n",
       "    </tr>\n",
       "    <tr>\n",
       "      <th>101</th>\n",
       "      <td>2021-07-22</td>\n",
       "      <td>4619</td>\n",
       "    </tr>\n",
       "  </tbody>\n",
       "</table>\n",
       "</div>"
      ],
      "text/plain": [
       "            日付  ワクチン接種数\n",
       "0   2021-04-12       49\n",
       "1   2021-04-13       48\n",
       "2   2021-04-14       72\n",
       "3   2021-04-15      195\n",
       "4   2021-04-16      246\n",
       "97  2021-07-18    15058\n",
       "98  2021-07-19     6969\n",
       "99  2021-07-20     6414\n",
       "100 2021-07-21     3199\n",
       "101 2021-07-22     4619"
      ]
     },
     "execution_count": 28,
     "metadata": {},
     "output_type": "execute_result"
    }
   ],
   "source": [
    "df_okinawa_vaccination2 = pd.read_csv(OKINAWA_VACCINATION_V2_CSV)\n",
    "df_okinawa_vaccination2['日付'] = pd.to_datetime(df_okinawa_vaccination2['日付'])\n",
    "\n",
    "pd.concat([df_okinawa_vaccination2.head(), df_okinawa_vaccination2.tail()])"
   ]
  },
  {
   "cell_type": "markdown",
   "metadata": {},
   "source": [
    "## 17. Pythonモジュールの作成(0.5点)\n",
    "- 沖縄県のワクチン接種データを扱うPythonモジュール「okinawa_vaccination_v2.py」を作成してください。\n",
    "- 作成するPythonモジュールには、日付を複数指定したら沖縄県のワクチン接種数の合計を返すユーザー定義関数を作成してください。\n",
    "  - 関数名はgetTotalVaccinationsForDates()としてください\n",
    "  - pandasでファイルを読み込むように記述しましょう\n",
    "  - リストの日付かどうかをチェックするには、[isin()](https://note.nkmk.me/python-pandas-query/#inisin)を使用し、ブーリアンインデックスを使用して絞り込みましょう\n",
    "  - 絞り込んだDataFrameを「ワクチン接種数」列のSeriesに絞り込み、さらにSeriesの合計を求める[sum()](https://note.nkmk.me/python-pandas-count-condition/)を使用して、ワクチン接種数の合計を求めましょう"
   ]
  },
  {
   "cell_type": "code",
   "execution_count": 29,
   "metadata": {},
   "outputs": [],
   "source": [
    "# Pythonファイルにコードを記述してください。"
   ]
  },
  {
   "cell_type": "markdown",
   "metadata": {},
   "source": [
    "## 18. Pythonモジュールの呼び出し(0.5点)\n",
    "- 作成したPythonモジュール「okinawa_vaccination.py」の関数getTotalVaccinationsForDates()を使用するプログラムを書いておきます\n",
    "- プログラムを修正せずに同じデータが表示されれば正解です"
   ]
  },
  {
   "cell_type": "code",
   "execution_count": 31,
   "metadata": {},
   "outputs": [
    {
     "name": "stdout",
     "output_type": "stream",
     "text": [
      "97\n",
      "53153\n"
     ]
    }
   ],
   "source": [
    "import importlib\n",
    "import okinawa_vaccination_v2\n",
    "\n",
    "importlib.reload(okinawa_vaccination_v2)\n",
    "print(okinawa_vaccination_v2.getTotalVaccinationsForDates(['2021-04-12','2021-04-13']))\n",
    "print(okinawa_vaccination_v2.getTotalVaccinationsForDates(['2021-07-12','2021-07-13','2021-07-14','2021-07-15','2021-07-16']))"
   ]
  },
  {
   "cell_type": "code",
   "execution_count": null,
   "metadata": {},
   "outputs": [],
   "source": []
  }
 ],
 "metadata": {
  "colab": {
   "authorship_tag": "ABX9TyMOtB7OiTVLb+yu2KoVwjto",
   "include_colab_link": true,
   "provenance": []
  },
  "kernelspec": {
   "display_name": "Python 3 (ipykernel)",
   "language": "python",
   "name": "python3"
  },
  "language_info": {
   "codemirror_mode": {
    "name": "ipython",
    "version": 3
   },
   "file_extension": ".py",
   "mimetype": "text/x-python",
   "name": "python",
   "nbconvert_exporter": "python",
   "pygments_lexer": "ipython3",
   "version": "3.10.12"
  }
 },
 "nbformat": 4,
 "nbformat_minor": 1
}

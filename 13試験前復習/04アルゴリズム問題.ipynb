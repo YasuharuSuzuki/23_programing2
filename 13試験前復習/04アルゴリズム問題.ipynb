{
 "cells": [
  {
   "cell_type": "markdown",
   "metadata": {
    "colab_type": "text",
    "id": "view-in-github"
   },
   "source": [
    "<a href=\"https://colab.research.google.com/github/YasuharuSuzuki/23_programing2/blob/main/\" target=\"_parent\"><img src=\"https://colab.research.google.com/assets/colab-badge.svg\" alt=\"Open In Colab\"/></a>"
   ]
  },
  {
   "cell_type": "markdown",
   "metadata": {},
   "source": [
    "## 24. 駄菓子屋Mix100 (3点)\n",
    "- ゆるるくんは100円だけたくさん持って駄菓子屋へ行きました。\n",
    "- 雑多に置かれた駄菓子を $ N $ 個掴みましたが、そのうちの $ S $ 番目〜 $ E $ 番目までを買うことにしました。\n",
    "- 駄菓子は以下の3種類がランダムで選ばれます\n",
    "  - チロルリング (20円)\n",
    "  - ヤッチャンタコ (50円)\n",
    "  - スーパーキャンディ (100円)\n",
    "- 各駄菓子が $ D_1 $ 〜 $ D_N $ で先頭の一文字で入力される時、駄菓子を購入するのに必要な100円玉の枚数  𝐴\n",
    "  と、お釣りの金額 $ 𝑅 $ を出力せよ"
   ]
  },
  {
   "cell_type": "markdown",
   "metadata": {},
   "source": [
    "### 制約\n",
    "$ 1 \\leq　N \\leq　10 $   \n",
    "$ 1 \\leq　S \\leq　N $   \n",
    "$ S \\leq　E \\leq　N $   \n",
    "$ 　D_i =　`チ` or `ヤ` or `ス` $   \n",
    "$ N $、$ S $、$ E $  はそれぞれ整数\n",
    "$ 　D_i は1文字"
   ]
  },
  {
   "cell_type": "markdown",
   "metadata": {},
   "source": [
    "### 入力\n",
    "入力は以下の形式で標準入力から与えられます\n",
    "\n",
    "---\n",
    "$\n",
    "N \\quad S \\quad E \\\\\n",
    "D_1 \\quad D_2 \\quad ... \\quad D_N \\\\\n",
    "$\n",
    "\n",
    "---\n",
    "\n",
    "掴んだ駄菓子の個数$ N $、買うことにした範囲（ $ S $、 $ E $）、各駄菓子 $ D_1 $ 〜 $ D_N $ を受け取ります。"
   ]
  },
  {
   "cell_type": "markdown",
   "metadata": {},
   "source": [
    "### 出力\n",
    "\n",
    "---\n",
    "$ A \\quad　R $   \n",
    "\n",
    "---\n",
    "\n",
    "駄菓子を購入するのに必要な100円玉の枚数 $ A $ と、おつり $ R $ を出力してください。"
   ]
  },
  {
   "cell_type": "markdown",
   "metadata": {},
   "source": [
    "----\n",
    "----\n",
    "\n",
    "### 入力例1\n",
    "```python\n",
    "10 1 5\n",
    "チ チ チ ヤ ヤ ヤ ヤ ス ス ス\n",
    "```\n",
    "\n",
    "### 出力例1\n",
    "```python\n",
    "2 40\n",
    "```\n",
    "- $ D_{1} $ 〜 $ D_{5} $ の合計値は $ 160 $です。\n",
    "  - $ 20+20+20+50+50 = 160 $\n",
    "- 合計値を100円で割り算し、必要な個数を求めると答えは$ 2 $となります。\n",
    "- おつりは $ 40 $ です。"
   ]
  },
  {
   "cell_type": "markdown",
   "metadata": {},
   "source": [
    "----\n",
    "----\n",
    "\n",
    "### 入力例2\n",
    "```python\n",
    "6 4 6\n",
    "チ ヤ ス ス ス ス\n",
    "```\n",
    "\n",
    "### 出力例2\n",
    "```python\n",
    "3 0\n",
    "```\n",
    "- $ D_{4} $ 〜 $ D_{6} $ の合計値は $ 300 $です。\n",
    "  - $ 100+100+100 = 300 $\n",
    "- 合計値を100円で割り算し、必要な個数を求めると答えは$ 3 $となります。\n",
    "- おつりは $ 0 $ です。"
   ]
  },
  {
   "cell_type": "markdown",
   "metadata": {},
   "source": [
    "### ここ↓にPythonコードを記述してください"
   ]
  },
  {
   "cell_type": "code",
   "execution_count": 2,
   "metadata": {},
   "outputs": [
    {
     "name": "stdout",
     "output_type": "stream",
     "text": [
      "6 4 6\n",
      "チ ヤ ス ス ス ス\n",
      "3 0\n"
     ]
    }
   ],
   "source": [
    "\n",
    "\n",
    "\n",
    "\n",
    "\n"
   ]
  },
  {
   "cell_type": "markdown",
   "metadata": {},
   "source": [
    "---\n",
    "---\n",
    "---\n",
    "---\n",
    "---"
   ]
  },
  {
   "cell_type": "code",
   "execution_count": null,
   "metadata": {},
   "outputs": [],
   "source": []
  }
 ],
 "metadata": {
  "colab": {
   "authorship_tag": "ABX9TyMOtB7OiTVLb+yu2KoVwjto",
   "include_colab_link": true,
   "provenance": []
  },
  "kernelspec": {
   "display_name": "Python 3 (ipykernel)",
   "language": "python",
   "name": "python3"
  },
  "language_info": {
   "codemirror_mode": {
    "name": "ipython",
    "version": 3
   },
   "file_extension": ".py",
   "mimetype": "text/x-python",
   "name": "python",
   "nbconvert_exporter": "python",
   "pygments_lexer": "ipython3",
   "version": "3.10.12"
  }
 },
 "nbformat": 4,
 "nbformat_minor": 1
}

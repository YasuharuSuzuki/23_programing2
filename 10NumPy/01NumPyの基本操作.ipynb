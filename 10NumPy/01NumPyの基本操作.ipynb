{
 "cells": [
  {
   "cell_type": "markdown",
   "metadata": {
    "colab_type": "text",
    "id": "view-in-github"
   },
   "source": [
    "<a href=\"https://colab.research.google.com/github/YasuharuSuzuki/23_programing2/blob/main/\" target=\"_parent\"><img src=\"https://colab.research.google.com/assets/colab-badge.svg\" alt=\"Open In Colab\"/></a>"
   ]
  },
  {
   "cell_type": "markdown",
   "metadata": {},
   "source": [
    "### Section 15 NumPy配列\n",
    "# Section 15-1 NumPy配列を作る(教科書P.344)"
   ]
  },
  {
   "cell_type": "markdown",
   "metadata": {},
   "source": [
    "### NumPyとは\n",
    "<img src=\"https://raw.githubusercontent.com/numpy/numpy/main/branding/logo/primary/numpylogo.svg\">\n",
    "\n",
    "- numpyは、大量の数値データに対して一気に高速な計算を行うことに特化した数値演算ライブラリです。\n",
    "- リストでもfor文と組み合わせることで同様の演算を行うことができますが、numpyは内部処理がC言語で書かれており、非常に高速に効率よく処理を行うことが出来ます。\n",
    "\n",
    "### NumPyを使うメリット\n",
    "- パフォーマンス: numpyはC言語で書かれているため、Pythonのリストを使用するよりも計算が高速です。\n",
    "- メモリ効率: numpy配列はPythonのリストに比べてメモリ効率が良く、大量の数値データを扱うのに適しています。\n",
    "- 便利な数学関数: numpyには、統計、線形代数、フーリエ変換など、多くの便利な数学関数が組み込まれています。\n",
    "- 配列操作: numpyは多次元配列をサポートしており、形状変更、スライシング、インデックス付けなどの便利な配列操作を提供します。\n",
    "- ブロードキャスティング: numpyはブロードキャスティングをサポートしており、異なる形状の配列間での算術演算を可能にします。\n",
    "- 互換性: numpyは多くの他のPythonライブラリ（pandas、matplotlib、scikit-learnなど）と互換性があり、データ分析のエコシステムの中心的な役割を果たしています。\n",
    "\n",
    "### はじめてみよう\n",
    "- 上記の利点により、numpyは科学計算やデータ分析において重要なツールとなっています。\n",
    "- 今回の講義では、このNumPyを使った数値演算の基本について学んでいきましょう。"
   ]
  },
  {
   "cell_type": "markdown",
   "metadata": {},
   "source": [
    "## 参考サイト\n",
    "### [【Python早見表】16. NumPy (1): ベクトル](https://chokkan.github.io/python/16numpy1.html)\n",
    "### [【Python早見表】17. NumPy (2): 行列・テンソル](https://chokkan.github.io/python/17numpy2.html)\n",
    "### [【Python入門】5-3. NumPyライブラリ](https://utokyo-ipp.github.io/5/5-3.html)"
   ]
  },
  {
   "cell_type": "markdown",
   "metadata": {},
   "source": [
    "## サンプルプログラム1　NumPy配列を作る"
   ]
  },
  {
   "cell_type": "code",
   "execution_count": 1,
   "metadata": {},
   "outputs": [],
   "source": [
    "import numpy as np # NumPyモジュールを読み込む"
   ]
  },
  {
   "cell_type": "code",
   "execution_count": 2,
   "metadata": {},
   "outputs": [
    {
     "name": "stdout",
     "output_type": "stream",
     "text": [
      "[1 2 3 4 5]\n"
     ]
    }
   ],
   "source": [
    "# リストからNumPy配列を作る\n",
    "x_list = [1, 2, 3, 4, 5]\n",
    "x_np = np.array(x_list)\n",
    "print(x_np)"
   ]
  },
  {
   "cell_type": "code",
   "execution_count": 3,
   "metadata": {},
   "outputs": [
    {
     "data": {
      "text/plain": [
       "numpy.ndarray"
      ]
     },
     "execution_count": 3,
     "metadata": {},
     "output_type": "execute_result"
    }
   ],
   "source": [
    "# 型を確認する\n",
    "type(x_np)"
   ]
  },
  {
   "cell_type": "markdown",
   "metadata": {},
   "source": [
    "### 要素の型を指定してNumPy配列を作る\n",
    "- 要素の型をいくつか紹介\n",
    "  - np.int32  整数型(32bit)。大量のデータを一気に処理する時には高速。除算が苦手。数値の範囲は±21億を扱える。\n",
    "  - np.int64  整数型(64bit)。int32よりは若干処理時間がかかるものの高速。除算が苦手。int32より表現できる数値の範囲が広く、±900京を扱える。\n",
    "  - np.float32  浮動小数点型(32bit)。精度は悪いが、高速に浮動小数点を使いたい時に使用。int32と同程度の速度で、除算は遅くない。\n",
    "  - np.float64  浮動小数点型(64bit)。精度が高い科学技術計算をしたい時に使用。除算は遅くない。"
   ]
  },
  {
   "cell_type": "code",
   "execution_count": 4,
   "metadata": {},
   "outputs": [
    {
     "name": "stdout",
     "output_type": "stream",
     "text": [
      "x_int32= [1 2 3 4 5] , x_int32.dtype= int32\n"
     ]
    }
   ],
   "source": [
    "# int32型でnp.array()を作成\n",
    "x_int32 = np.array(x_list, dtype=np.int32)\n",
    "print(\"x_int32=\", x_int32, \", x_int32.dtype=\", x_int32.dtype)"
   ]
  },
  {
   "cell_type": "code",
   "execution_count": 5,
   "metadata": {},
   "outputs": [
    {
     "name": "stdout",
     "output_type": "stream",
     "text": [
      "x_float64= [1. 2. 3. 4. 5.] , x_float64.dtype= float64\n"
     ]
    }
   ],
   "source": [
    "# float64型でnp.array()を作成\n",
    "x_float64 = np.array(x_list, dtype=np.float64)\n",
    "print(\"x_float64=\", x_float64, \", x_float64.dtype=\", x_float64.dtype)"
   ]
  },
  {
   "cell_type": "markdown",
   "metadata": {},
   "source": [
    "### 多次元配列\n",
    "- リストと同様にNumPyも多次元配列を作ることができます。\n",
    "- リストとの違い\n",
    "  - ベクトル演算や行列演算が可能。ブロードキャストが出来る。\n",
    "  - 高速で効率の良い処理ができる。"
   ]
  },
  {
   "cell_type": "code",
   "execution_count": 6,
   "metadata": {},
   "outputs": [
    {
     "name": "stdout",
     "output_type": "stream",
     "text": [
      "---- リスト ----\n",
      "[[1, 2, 3], [4, 5, 6]]\n",
      "---- NumPy ----\n",
      "[[1 2 3]\n",
      " [4 5 6]]\n"
     ]
    }
   ],
   "source": [
    "# 2次元配列\n",
    "x_2x3 = [ # 2次元配列の構築\n",
    "    [1,2,3],\n",
    "    [4,5,6]\n",
    "]\n",
    "print(\"---- リスト ----\")\n",
    "print(x_2x3)\n",
    "print(\"---- NumPy ----\")\n",
    "print(np.array(x_2x3)) "
   ]
  },
  {
   "cell_type": "markdown",
   "metadata": {},
   "source": [
    "- 上記のように、リストと異なりNumPyの2次元配列は行列のように出力されます"
   ]
  },
  {
   "cell_type": "code",
   "execution_count": 7,
   "metadata": {},
   "outputs": [
    {
     "name": "stdout",
     "output_type": "stream",
     "text": [
      "---- リスト ----\n",
      "[[[1, 2, 3], [4, 5, 6]], [[7, 8, 9], [10, 11, 12]], [[13, 14, 15], [16, 17, 18]]]\n",
      "---- NumPy ----\n",
      "[[[ 1  2  3]\n",
      "  [ 4  5  6]]\n",
      "\n",
      " [[ 7  8  9]\n",
      "  [10 11 12]]\n",
      "\n",
      " [[13 14 15]\n",
      "  [16 17 18]]]\n"
     ]
    }
   ],
   "source": [
    "# 3次元配列\n",
    "x_3x2x3 = [ # 3次元配列の構築\n",
    "    [[1,2,3],[ 4, 5, 6]],\n",
    "    [[7,8,9],[10,11,12]],\n",
    "    [[13,14,15],[16,17,18]],\n",
    "]\n",
    "print(\"---- リスト ----\")\n",
    "print(x_3x2x3)\n",
    "print(\"---- NumPy ----\")\n",
    "print(np.array(x_3x2x3)) "
   ]
  },
  {
   "cell_type": "markdown",
   "metadata": {},
   "source": [
    "- 3次元配列は行列の配列のように出力されます"
   ]
  },
  {
   "cell_type": "markdown",
   "metadata": {},
   "source": [
    "### reshape()を使ったndarrayの形状変更\n",
    "- reshape()を使うと配列の形状を変更することが出来ます"
   ]
  },
  {
   "cell_type": "code",
   "execution_count": 8,
   "metadata": {},
   "outputs": [
    {
     "data": {
      "text/plain": [
       "array([[ 1,  2,  3,  4,  5,  6,  7,  8,  9],\n",
       "       [10, 11, 12, 13, 14, 15, 16, 17, 18]])"
      ]
     },
     "execution_count": 8,
     "metadata": {},
     "output_type": "execute_result"
    }
   ],
   "source": [
    "# 3x2x3 の配列を2x9の配列に変更する\n",
    "np.array(x_3x2x3).reshape(2,9)"
   ]
  },
  {
   "cell_type": "code",
   "execution_count": 9,
   "metadata": {},
   "outputs": [
    {
     "data": {
      "text/plain": [
       "array([[[[ 1,  2,  3],\n",
       "         [ 4,  5,  6],\n",
       "         [ 7,  8,  9]],\n",
       "\n",
       "        [[10, 11, 12],\n",
       "         [13, 14, 15],\n",
       "         [16, 17, 18]]]])"
      ]
     },
     "execution_count": 9,
     "metadata": {},
     "output_type": "execute_result"
    }
   ],
   "source": [
    "# 3x2x3 の配列を1x2x3x3の配列に変更する\n",
    "np.array(x_3x2x3).reshape(1,2,3,3)"
   ]
  },
  {
   "cell_type": "markdown",
   "metadata": {},
   "source": [
    "## 練習プログラム1　NumPy配列を作る(1.5点)\n",
    "- NumPy配列を作ってみましょう\n",
    "  - リストからNumPy配列を作ってみましょう。\n",
    "  - 型を確認してみましょう。\n",
    "  - 要素の型を指定してNumPy配列を作ってみましょう。\n",
    "  - 多次元配列を作ってみまｓｙほう。\n",
    "  - reshape()を使ってndarrayの形状変更してみましょう。\n",
    "- このNotebookのサンプルプログラムや教科書の値とは違う独自の値を使いましょう。変数名も独自のものに変えましょう。"
   ]
  },
  {
   "cell_type": "code",
   "execution_count": null,
   "metadata": {},
   "outputs": [],
   "source": [
    "\n",
    "\n",
    "\n",
    "\n",
    "\n",
    "\n"
   ]
  },
  {
   "cell_type": "markdown",
   "metadata": {},
   "source": [
    "---\n",
    "---\n",
    "---\n",
    "---\n",
    "---"
   ]
  },
  {
   "cell_type": "markdown",
   "metadata": {},
   "source": [
    "## サンプルプログラム2　配列の要素へのアクセス"
   ]
  },
  {
   "cell_type": "markdown",
   "metadata": {},
   "source": [
    "#### 参照\n",
    "- 配列の要素へのアクセスはリストと同じです\n",
    "- マイナス値を使用すると配列の終端からアクセスできるのも同じです"
   ]
  },
  {
   "cell_type": "code",
   "execution_count": 10,
   "metadata": {},
   "outputs": [
    {
     "data": {
      "text/plain": [
       "array([1, 2, 3, 4, 5])"
      ]
     },
     "execution_count": 10,
     "metadata": {},
     "output_type": "execute_result"
    }
   ],
   "source": [
    "x_np # 配列"
   ]
  },
  {
   "cell_type": "code",
   "execution_count": 11,
   "metadata": {},
   "outputs": [
    {
     "data": {
      "text/plain": [
       "1"
      ]
     },
     "execution_count": 11,
     "metadata": {},
     "output_type": "execute_result"
    }
   ],
   "source": [
    "x_np[0] # 最初の要素"
   ]
  },
  {
   "cell_type": "code",
   "execution_count": 12,
   "metadata": {},
   "outputs": [
    {
     "data": {
      "text/plain": [
       "3"
      ]
     },
     "execution_count": 12,
     "metadata": {},
     "output_type": "execute_result"
    }
   ],
   "source": [
    "x_np[2] # 3番目の要素"
   ]
  },
  {
   "cell_type": "code",
   "execution_count": 13,
   "metadata": {},
   "outputs": [
    {
     "data": {
      "text/plain": [
       "5"
      ]
     },
     "execution_count": 13,
     "metadata": {},
     "output_type": "execute_result"
    }
   ],
   "source": [
    "x_np[-1] # 最後の要素"
   ]
  },
  {
   "cell_type": "code",
   "execution_count": 14,
   "metadata": {},
   "outputs": [
    {
     "data": {
      "text/plain": [
       "[[1, 2, 3], [4, 5, 6]]"
      ]
     },
     "execution_count": 14,
     "metadata": {},
     "output_type": "execute_result"
    }
   ],
   "source": [
    "x_2x3 # 2x3行列"
   ]
  },
  {
   "cell_type": "code",
   "execution_count": 15,
   "metadata": {},
   "outputs": [
    {
     "data": {
      "text/plain": [
       "5"
      ]
     },
     "execution_count": 15,
     "metadata": {},
     "output_type": "execute_result"
    }
   ],
   "source": [
    "x_2x3[-1][1] # 最後の行の2列目"
   ]
  },
  {
   "cell_type": "code",
   "execution_count": 16,
   "metadata": {},
   "outputs": [
    {
     "data": {
      "text/plain": [
       "[[[1, 2, 3], [4, 5, 6]],\n",
       " [[7, 8, 9], [10, 11, 12]],\n",
       " [[13, 14, 15], [16, 17, 18]]]"
      ]
     },
     "execution_count": 16,
     "metadata": {},
     "output_type": "execute_result"
    }
   ],
   "source": [
    "x_3x2x3 # 3x2x3行列"
   ]
  },
  {
   "cell_type": "code",
   "execution_count": 17,
   "metadata": {},
   "outputs": [
    {
     "data": {
      "text/plain": [
       "14"
      ]
     },
     "execution_count": 17,
     "metadata": {},
     "output_type": "execute_result"
    }
   ],
   "source": [
    "x_3x2x3[2][0][1]"
   ]
  },
  {
   "cell_type": "markdown",
   "metadata": {},
   "source": [
    "#### 代入\n",
    "- リスト同様に代入していきます"
   ]
  },
  {
   "cell_type": "code",
   "execution_count": 18,
   "metadata": {},
   "outputs": [
    {
     "data": {
      "text/plain": [
       "array([ 1, 99,  3,  4,  5])"
      ]
     },
     "execution_count": 18,
     "metadata": {},
     "output_type": "execute_result"
    }
   ],
   "source": [
    "x_np[1] = 99 # 最初の要素\n",
    "x_np"
   ]
  },
  {
   "cell_type": "code",
   "execution_count": 19,
   "metadata": {},
   "outputs": [
    {
     "data": {
      "text/plain": [
       "[[1, 2, 3], [4, 5, 9]]"
      ]
     },
     "execution_count": 19,
     "metadata": {},
     "output_type": "execute_result"
    }
   ],
   "source": [
    "x_2x3[1][-1] = 9 # 2行目の最後の要素\n",
    "x_2x3"
   ]
  },
  {
   "cell_type": "code",
   "execution_count": 20,
   "metadata": {},
   "outputs": [
    {
     "data": {
      "text/plain": [
       "[[[1, 2, 3], [4, 5, 6]],\n",
       " [[7, 8, 9], [10, 11, 12]],\n",
       " [[13, 14, 15], [16, 17, 999]]]"
      ]
     },
     "execution_count": 20,
     "metadata": {},
     "output_type": "execute_result"
    }
   ],
   "source": [
    "x_3x2x3[2][-1][-1] = 999\n",
    "x_3x2x3"
   ]
  },
  {
   "cell_type": "markdown",
   "metadata": {},
   "source": [
    "#### スライス\n",
    "- リストと同様にスライスも可能です"
   ]
  },
  {
   "cell_type": "code",
   "execution_count": 21,
   "metadata": {},
   "outputs": [
    {
     "name": "stdout",
     "output_type": "stream",
     "text": [
      "[3 4]\n"
     ]
    }
   ],
   "source": [
    "print(x_np[2:4])"
   ]
  },
  {
   "cell_type": "markdown",
   "metadata": {},
   "source": [
    "- numpyのリストでは代入が出来ます"
   ]
  },
  {
   "cell_type": "code",
   "execution_count": 22,
   "metadata": {},
   "outputs": [
    {
     "name": "stdout",
     "output_type": "stream",
     "text": [
      "[ 1 99  3  4  5]\n",
      "[1 8 8 8 5]\n"
     ]
    }
   ],
   "source": [
    "print(x_np)\n",
    "x_np[1:4] = 8\n",
    "print(x_np)"
   ]
  },
  {
   "cell_type": "markdown",
   "metadata": {},
   "source": [
    "## 練習プログラム2　配列の要素へのアクセス(1.8点)\n",
    "- 配列の要素へアクセスしてみましょう\n",
    "  - NumPyの1次元配列から値を取り出してみましょう\n",
    "  - NumPyの多次元配列から値を取り出してみましょう\n",
    "  - NumPyの1次元配列に値をセットしてみましょう\n",
    "  - NumPyの多次元配列に値をセットしてみましょう\n",
    "  - NumPyの配列からスライスで値を取り出してみましょう。\n",
    "  - NumPyの配列にスライスで値をセットしてみましょう。\n",
    "- このNotebookのサンプルプログラムや教科書の値とは違う独自の値を使いましょう。変数名も独自のものに変えましょう。"
   ]
  },
  {
   "cell_type": "code",
   "execution_count": null,
   "metadata": {},
   "outputs": [],
   "source": [
    "\n",
    "\n",
    "\n",
    "\n",
    "\n"
   ]
  },
  {
   "cell_type": "markdown",
   "metadata": {},
   "source": [
    "---\n",
    "---\n",
    "---\n",
    "---\n",
    "---"
   ]
  },
  {
   "cell_type": "markdown",
   "metadata": {},
   "source": [
    "## サンプルプログラム3　配列の演算\n",
    "- NumPyで作成した配列はベクトルとして扱うことが出来、ベクトルの和、差や、スカラ値の演算が出来ます\n",
    "- ここでは使用しませんが、画像処理でデファクトスタンダードであるOpenCVというライブラリを用いてNumPy配列として取り出した後、画像に直接演算を掛ける時によく使います。"
   ]
  },
  {
   "cell_type": "markdown",
   "metadata": {},
   "source": [
    "#### ベクトルの演算\n",
    "$\n",
    "    \\boldsymbol{x} =\n",
    "        \\begin{pmatrix}\n",
    "            1 \\\\\n",
    "            3 \\\\\n",
    "            5 \\\\\n",
    "        \\end{pmatrix} \\quad, \n",
    "    \\boldsymbol{y} =\n",
    "        \\begin{pmatrix}\n",
    "            10 \\\\\n",
    "            6 \\\\\n",
    "            2 \\\\\n",
    "        \\end{pmatrix} \\quad\n",
    "$\n",
    "\n",
    "に対して、様々な演算を紹介する。"
   ]
  },
  {
   "cell_type": "code",
   "execution_count": 23,
   "metadata": {},
   "outputs": [],
   "source": [
    "x = np.array([1, 3, 5])\n",
    "y = np.array([10, 6, 2])"
   ]
  },
  {
   "cell_type": "markdown",
   "metadata": {},
   "source": [
    "#### ベクトルの和\n",
    "$\n",
    "    \\boldsymbol{x + y} =\n",
    "        \\begin{pmatrix}\n",
    "            1 \\\\\n",
    "            3 \\\\\n",
    "            5 \\\\\n",
    "        \\end{pmatrix} +\n",
    "        \\begin{pmatrix}\n",
    "            10 \\\\\n",
    "            6 \\\\\n",
    "            2 \\\\\n",
    "        \\end{pmatrix} =\n",
    "        \\begin{pmatrix}\n",
    "            1 + 10 \\\\\n",
    "            3 + 6 \\\\\n",
    "            5 + 2 \\\\\n",
    "        \\end{pmatrix} =\n",
    "        \\begin{pmatrix}\n",
    "            11 \\\\\n",
    "            9 \\\\\n",
    "            7 \\\\\n",
    "        \\end{pmatrix}\n",
    "$"
   ]
  },
  {
   "cell_type": "code",
   "execution_count": 24,
   "metadata": {},
   "outputs": [
    {
     "data": {
      "text/plain": [
       "array([11,  9,  7])"
      ]
     },
     "execution_count": 24,
     "metadata": {},
     "output_type": "execute_result"
    }
   ],
   "source": [
    "x + y"
   ]
  },
  {
   "cell_type": "markdown",
   "metadata": {},
   "source": [
    "#### ベクトルの差\n",
    "$\n",
    "    \\boldsymbol{x - y} =\n",
    "        \\begin{pmatrix}\n",
    "            1 \\\\\n",
    "            3 \\\\\n",
    "            5 \\\\\n",
    "        \\end{pmatrix} -\n",
    "        \\begin{pmatrix}\n",
    "            10 \\\\\n",
    "            6 \\\\\n",
    "            2 \\\\\n",
    "        \\end{pmatrix} =\n",
    "        \\begin{pmatrix}\n",
    "            1 - 10 \\\\\n",
    "            3 - 6 \\\\\n",
    "            5 - 2 \\\\\n",
    "        \\end{pmatrix} =\n",
    "        \\begin{pmatrix}\n",
    "            -9 \\\\\n",
    "            -3 \\\\\n",
    "            3 \\\\\n",
    "        \\end{pmatrix}\n",
    "$"
   ]
  },
  {
   "cell_type": "code",
   "execution_count": 25,
   "metadata": {},
   "outputs": [
    {
     "data": {
      "text/plain": [
       "array([-9, -3,  3])"
      ]
     },
     "execution_count": 25,
     "metadata": {},
     "output_type": "execute_result"
    }
   ],
   "source": [
    "x - y"
   ]
  },
  {
   "cell_type": "markdown",
   "metadata": {},
   "source": [
    "#### スカラ値とベクトルの和\n",
    "$\n",
    "    \\boldsymbol{1 + x} =\n",
    "        \\begin{pmatrix}\n",
    "            1 \\\\\n",
    "            1 \\\\\n",
    "            1 \\\\\n",
    "        \\end{pmatrix} +\n",
    "        \\begin{pmatrix}\n",
    "            1 \\\\\n",
    "            3 \\\\\n",
    "            5 \\\\\n",
    "        \\end{pmatrix} =\n",
    "        \\begin{pmatrix}\n",
    "            2 \\\\\n",
    "            4 \\\\\n",
    "            6 \\\\\n",
    "        \\end{pmatrix}\n",
    "$"
   ]
  },
  {
   "cell_type": "code",
   "execution_count": 26,
   "metadata": {},
   "outputs": [
    {
     "data": {
      "text/plain": [
       "array([2, 4, 6])"
      ]
     },
     "execution_count": 26,
     "metadata": {},
     "output_type": "execute_result"
    }
   ],
   "source": [
    "1 + x"
   ]
  },
  {
   "cell_type": "markdown",
   "metadata": {},
   "source": [
    "#### スカラ値とベクトルの差\n",
    "$\n",
    "    \\boldsymbol{1 - x} =\n",
    "        \\begin{pmatrix}\n",
    "            1 \\\\\n",
    "            1 \\\\\n",
    "            1 \\\\\n",
    "        \\end{pmatrix} -\n",
    "        \\begin{pmatrix}\n",
    "            1 \\\\\n",
    "            3 \\\\\n",
    "            5 \\\\\n",
    "        \\end{pmatrix} =\n",
    "        \\begin{pmatrix}\n",
    "            0 \\\\\n",
    "            -2 \\\\\n",
    "            -4 \\\\\n",
    "        \\end{pmatrix}\n",
    "$"
   ]
  },
  {
   "cell_type": "code",
   "execution_count": 27,
   "metadata": {},
   "outputs": [
    {
     "data": {
      "text/plain": [
       "array([ 0, -2, -4])"
      ]
     },
     "execution_count": 27,
     "metadata": {},
     "output_type": "execute_result"
    }
   ],
   "source": [
    "1 - x"
   ]
  },
  {
   "cell_type": "markdown",
   "metadata": {},
   "source": [
    "#### スカラ値とベクトルの積\n",
    "$\n",
    "    \\boldsymbol{3 * x} =\n",
    "        \\begin{pmatrix}\n",
    "            3 \\\\\n",
    "            3 \\\\\n",
    "            3 \\\\\n",
    "        \\end{pmatrix} ⊙\n",
    "        \\begin{pmatrix}\n",
    "            1 \\\\\n",
    "            3 \\\\\n",
    "            5 \\\\\n",
    "        \\end{pmatrix} =\n",
    "        \\begin{pmatrix}\n",
    "            3 \\times 1 \\\\\n",
    "            3 \\times 3 \\\\\n",
    "            3 \\times 5 \\\\\n",
    "        \\end{pmatrix} =\n",
    "        \\begin{pmatrix}\n",
    "            3 \\\\\n",
    "            9 \\\\\n",
    "            15 \\\\\n",
    "        \\end{pmatrix}\n",
    "$"
   ]
  },
  {
   "cell_type": "code",
   "execution_count": 28,
   "metadata": {},
   "outputs": [
    {
     "data": {
      "text/plain": [
       "array([ 3,  9, 15])"
      ]
     },
     "execution_count": 28,
     "metadata": {},
     "output_type": "execute_result"
    }
   ],
   "source": [
    "3 * x"
   ]
  },
  {
   "cell_type": "markdown",
   "metadata": {},
   "source": [
    "#### sum(), max(), min(), mean(), var(), std(), sort()\n",
    "- リストと組み込み関数でも用意されているこれらの処理はNumPyでも出来ます"
   ]
  },
  {
   "cell_type": "code",
   "execution_count": 29,
   "metadata": {},
   "outputs": [
    {
     "data": {
      "text/plain": [
       "27"
      ]
     },
     "execution_count": 29,
     "metadata": {},
     "output_type": "execute_result"
    }
   ],
   "source": [
    "(x + y).sum() # 合計"
   ]
  },
  {
   "cell_type": "code",
   "execution_count": 30,
   "metadata": {},
   "outputs": [
    {
     "data": {
      "text/plain": [
       "11"
      ]
     },
     "execution_count": 30,
     "metadata": {},
     "output_type": "execute_result"
    }
   ],
   "source": [
    "(x + y).max() # 最大"
   ]
  },
  {
   "cell_type": "code",
   "execution_count": 31,
   "metadata": {},
   "outputs": [
    {
     "data": {
      "text/plain": [
       "7"
      ]
     },
     "execution_count": 31,
     "metadata": {},
     "output_type": "execute_result"
    }
   ],
   "source": [
    "(x + y).min() # 最小"
   ]
  },
  {
   "cell_type": "code",
   "execution_count": 32,
   "metadata": {},
   "outputs": [
    {
     "data": {
      "text/plain": [
       "9.0"
      ]
     },
     "execution_count": 32,
     "metadata": {},
     "output_type": "execute_result"
    }
   ],
   "source": [
    "(x + y).mean() # 平均"
   ]
  },
  {
   "cell_type": "code",
   "execution_count": 33,
   "metadata": {},
   "outputs": [
    {
     "data": {
      "text/plain": [
       "2.6666666666666665"
      ]
     },
     "execution_count": 33,
     "metadata": {},
     "output_type": "execute_result"
    }
   ],
   "source": [
    "(x + y).var() # 分散"
   ]
  },
  {
   "cell_type": "code",
   "execution_count": 34,
   "metadata": {},
   "outputs": [
    {
     "data": {
      "text/plain": [
       "1.632993161855452"
      ]
     },
     "execution_count": 34,
     "metadata": {},
     "output_type": "execute_result"
    }
   ],
   "source": [
    "(x + y).std() # 標準偏差"
   ]
  },
  {
   "cell_type": "code",
   "execution_count": 35,
   "metadata": {},
   "outputs": [
    {
     "data": {
      "text/plain": [
       "array([-9, -3,  3])"
      ]
     },
     "execution_count": 35,
     "metadata": {},
     "output_type": "execute_result"
    }
   ],
   "source": [
    "np.sort(x - y) # 組み込み関数のnumpy.sort()。np.sortは昇順でソートされた新しい配列を返します。"
   ]
  },
  {
   "cell_type": "code",
   "execution_count": 36,
   "metadata": {},
   "outputs": [
    {
     "data": {
      "text/plain": [
       "array([-9, -3,  3])"
      ]
     },
     "execution_count": 36,
     "metadata": {},
     "output_type": "execute_result"
    }
   ],
   "source": [
    "a = x - y # NumPyオブジェクトのインスタンスメソッドのsort()。配列内のデータを直接昇順でソートします。データを直接書き換えるので注意。\n",
    "a.sort()\n",
    "a"
   ]
  },
  {
   "cell_type": "markdown",
   "metadata": {},
   "source": [
    "#### 行列の演算\n",
    "- ここでは、NumPyで行列について\n",
    "- 画像処理のデファクトスタンダードであるOepnCVでは、画像データをNumPy行列で扱います。\n",
    "\n",
    "$\n",
    "    \\boldsymbol{X} =\n",
    "        \\begin{pmatrix}\n",
    "            1 \\quad 2 \\quad 3 \\\\\n",
    "            2 \\quad 3 \\quad 4 \\\\\n",
    "        \\end{pmatrix} \\quad, \n",
    "    \\boldsymbol{Y} =\n",
    "        \\begin{pmatrix}\n",
    "            1 \\quad 3 \\quad 5 \\\\\n",
    "            2 \\quad 4 \\quad 6 \\\\\n",
    "        \\end{pmatrix} \\quad\n",
    "$\n",
    "\n",
    "に対して、様々な演算を紹介する。"
   ]
  },
  {
   "cell_type": "code",
   "execution_count": 37,
   "metadata": {},
   "outputs": [],
   "source": [
    "x = np.array([\n",
    "    [1, 2, 3],\n",
    "    [2, 3, 4],\n",
    "], dtype='float')\n",
    "y = np.array([\n",
    "    [1, 3, 5],\n",
    "    [2, 4, 6],\n",
    "], dtype='float')"
   ]
  },
  {
   "cell_type": "markdown",
   "metadata": {},
   "source": [
    "#### 行列の和\n",
    "$\n",
    "    \\boldsymbol{X+Y} =\n",
    "        \\begin{pmatrix}\n",
    "            1 \\quad 2 \\quad 3 \\\\\n",
    "            2 \\quad 3 \\quad 4 \\\\\n",
    "        \\end{pmatrix} +\n",
    "        \\begin{pmatrix}\n",
    "            1 \\quad 3 \\quad 5 \\\\\n",
    "            2 \\quad 4 \\quad 6 \\\\\n",
    "        \\end{pmatrix} =\n",
    "        \\begin{pmatrix}\n",
    "            1+1 \\quad 2+3 \\quad 3+5 \\\\\n",
    "            2+2 \\quad 3+4 \\quad 4+6 \\\\\n",
    "        \\end{pmatrix} =\n",
    "        \\begin{pmatrix}\n",
    "            2 \\quad 5 \\quad 8 \\\\\n",
    "            4 \\quad 7 \\quad 10 \\\\\n",
    "        \\end{pmatrix}\n",
    "$"
   ]
  },
  {
   "cell_type": "code",
   "execution_count": 38,
   "metadata": {
    "scrolled": true
   },
   "outputs": [
    {
     "data": {
      "text/plain": [
       "array([[ 2.,  5.,  8.],\n",
       "       [ 4.,  7., 10.]])"
      ]
     },
     "execution_count": 38,
     "metadata": {},
     "output_type": "execute_result"
    }
   ],
   "source": [
    "x + y"
   ]
  },
  {
   "cell_type": "markdown",
   "metadata": {},
   "source": [
    "#### 行列の差\n",
    "$\n",
    "    \\boldsymbol{X-Y} =\n",
    "        \\begin{pmatrix}\n",
    "            1 \\quad 2 \\quad 3 \\\\\n",
    "            2 \\quad 3 \\quad 4 \\\\\n",
    "        \\end{pmatrix} -\n",
    "        \\begin{pmatrix}\n",
    "            1 \\quad 3 \\quad 5 \\\\\n",
    "            2 \\quad 4 \\quad 6 \\\\\n",
    "        \\end{pmatrix} =\n",
    "        \\begin{pmatrix}\n",
    "            1-1 \\quad 2-3 \\quad 3-5 \\\\\n",
    "            2-2 \\quad 3-4 \\quad 4-6 \\\\\n",
    "        \\end{pmatrix} =\n",
    "        \\begin{pmatrix}\n",
    "            0 \\quad -1 \\quad -2 \\\\\n",
    "            0 \\quad -1 \\quad -2 \\\\\n",
    "        \\end{pmatrix}\n",
    "$"
   ]
  },
  {
   "cell_type": "code",
   "execution_count": 39,
   "metadata": {},
   "outputs": [
    {
     "data": {
      "text/plain": [
       "array([[ 0., -1., -2.],\n",
       "       [ 0., -1., -2.]])"
      ]
     },
     "execution_count": 39,
     "metadata": {},
     "output_type": "execute_result"
    }
   ],
   "source": [
    "x - y"
   ]
  },
  {
   "cell_type": "markdown",
   "metadata": {},
   "source": [
    "#### スカラ値と行列の和\n",
    "$\n",
    "    \\boldsymbol{1+X} =\n",
    "        \\begin{pmatrix}\n",
    "            1 \\quad 1 \\quad 1 \\\\\n",
    "            1 \\quad 1 \\quad 1 \\\\\n",
    "        \\end{pmatrix} +\n",
    "        \\begin{pmatrix}\n",
    "            1 \\quad 2 \\quad 3 \\\\\n",
    "            2 \\quad 3 \\quad 4 \\\\\n",
    "        \\end{pmatrix} =\n",
    "        \\begin{pmatrix}\n",
    "            1+1 \\quad 1+2 \\quad 1+3 \\\\\n",
    "            1+2 \\quad 1+3 \\quad 1+4 \\\\\n",
    "        \\end{pmatrix} =\n",
    "        \\begin{pmatrix}\n",
    "            2 \\quad 3 \\quad 4 \\\\\n",
    "            3 \\quad 4 \\quad 5 \\\\\n",
    "        \\end{pmatrix}\n",
    "$"
   ]
  },
  {
   "cell_type": "code",
   "execution_count": 40,
   "metadata": {},
   "outputs": [
    {
     "data": {
      "text/plain": [
       "array([[2., 3., 4.],\n",
       "       [3., 4., 5.]])"
      ]
     },
     "execution_count": 40,
     "metadata": {},
     "output_type": "execute_result"
    }
   ],
   "source": [
    "1 + x"
   ]
  },
  {
   "cell_type": "markdown",
   "metadata": {},
   "source": [
    "#### スカラ値と行列の差\n",
    "$\n",
    "    \\boldsymbol{1-X} =\n",
    "        \\begin{pmatrix}\n",
    "            1 \\quad 1 \\quad 1 \\\\\n",
    "            1 \\quad 1 \\quad 1 \\\\\n",
    "        \\end{pmatrix} -\n",
    "        \\begin{pmatrix}\n",
    "            1 \\quad 2 \\quad 3 \\\\\n",
    "            2 \\quad 3 \\quad 4 \\\\\n",
    "        \\end{pmatrix} =\n",
    "        \\begin{pmatrix}\n",
    "            1-1 \\quad 1-2 \\quad 1-3 \\\\\n",
    "            1-2 \\quad 1-3 \\quad 1-4 \\\\\n",
    "        \\end{pmatrix} =\n",
    "        \\begin{pmatrix}\n",
    "            0 \\quad -1 \\quad -2 \\\\\n",
    "            -1 \\quad -2 \\quad -3 \\\\\n",
    "        \\end{pmatrix}\n",
    "$"
   ]
  },
  {
   "cell_type": "code",
   "execution_count": 41,
   "metadata": {},
   "outputs": [
    {
     "data": {
      "text/plain": [
       "array([[ 0., -1., -2.],\n",
       "       [-1., -2., -3.]])"
      ]
     },
     "execution_count": 41,
     "metadata": {},
     "output_type": "execute_result"
    }
   ],
   "source": [
    "1 - x"
   ]
  },
  {
   "cell_type": "markdown",
   "metadata": {},
   "source": [
    "#### 転置行列\n",
    "$\n",
    "    \\boldsymbol{Z} =\n",
    "        Y^T =\n",
    "        \\begin{pmatrix}\n",
    "            1 \\quad 3 \\quad 5 \\\\\n",
    "            2 \\quad 4 \\quad 6 \\\\\n",
    "        \\end{pmatrix}^T =\n",
    "        \\begin{pmatrix}\n",
    "            1 \\quad 2 \\\\\n",
    "            3 \\quad 4 \\\\\n",
    "            5 \\quad 6 \\\\\n",
    "        \\end{pmatrix}\n",
    "$"
   ]
  },
  {
   "cell_type": "code",
   "execution_count": 42,
   "metadata": {},
   "outputs": [
    {
     "data": {
      "text/plain": [
       "array([[1., 2.],\n",
       "       [3., 4.],\n",
       "       [5., 6.]])"
      ]
     },
     "execution_count": 42,
     "metadata": {},
     "output_type": "execute_result"
    }
   ],
   "source": [
    "z = y.T\n",
    "z"
   ]
  },
  {
   "cell_type": "markdown",
   "metadata": {},
   "source": [
    "#### 行列積\n",
    "$\n",
    "    \\boldsymbol{XZ} =\n",
    "        \\begin{pmatrix}\n",
    "            1 \\quad 2 \\quad 3 \\\\\n",
    "            2 \\quad 3 \\quad 4 \\\\\n",
    "        \\end{pmatrix}\n",
    "        \\begin{pmatrix}\n",
    "            1 \\quad 2 \\\\\n",
    "            3 \\quad 4 \\\\\n",
    "            5 \\quad 6 \\\\\n",
    "        \\end{pmatrix} \\\\\n",
    "        =\n",
    "        \\begin{pmatrix}\n",
    "            1 \\times 1 + 2 \\times 3 + 3 \\times 5 \\quad 1 \\times 2 + 2 \\times 4 + 3 \\times 6 \\\\\n",
    "            2 \\times 1 + 3 \\times 3 + 4 \\times 5 \\quad 2 \\times 2 + 3 \\times 4 + 4 \\times 6 \\\\\n",
    "        \\end{pmatrix}\n",
    "        =\n",
    "        \\begin{pmatrix}\n",
    "            22 \\quad 28 \\\\\n",
    "            31 \\quad 40 \\\\\n",
    "        \\end{pmatrix}\n",
    "$"
   ]
  },
  {
   "cell_type": "code",
   "execution_count": 43,
   "metadata": {},
   "outputs": [
    {
     "data": {
      "text/plain": [
       "array([[22., 28.],\n",
       "       [31., 40.]])"
      ]
     },
     "execution_count": 43,
     "metadata": {},
     "output_type": "execute_result"
    }
   ],
   "source": [
    "np.dot(x, z)"
   ]
  },
  {
   "cell_type": "code",
   "execution_count": 44,
   "metadata": {},
   "outputs": [
    {
     "data": {
      "text/plain": [
       "array([[22., 28.],\n",
       "       [31., 40.]])"
      ]
     },
     "execution_count": 44,
     "metadata": {},
     "output_type": "execute_result"
    }
   ],
   "source": [
    "# 行列積 は @ 演算子で書くこともできます。\n",
    "x @ z"
   ]
  },
  {
   "cell_type": "markdown",
   "metadata": {},
   "source": [
    "#### median(), argmin(), argmax()\n",
    "- リストにはないNumPy特有のメソッドをいくつか紹介します\n",
    "- NumPyは本当にたくさんの種類のメソッドがあるので"
   ]
  },
  {
   "cell_type": "code",
   "execution_count": 45,
   "metadata": {},
   "outputs": [
    {
     "data": {
      "text/plain": [
       "-0.5"
      ]
     },
     "execution_count": 45,
     "metadata": {},
     "output_type": "execute_result"
    }
   ],
   "source": [
    "# 中央値。\n",
    "# 平均値は異常値に引っ張られやすく、データの特性を掴むには中央値を使用した方が良いことが良くあります。\n",
    "x = np.array([-3, -5,  0,  3, -5, -4, -1,  0,  1,  4])\n",
    "np.median(x)"
   ]
  },
  {
   "cell_type": "code",
   "execution_count": 46,
   "metadata": {},
   "outputs": [
    {
     "data": {
      "text/plain": [
       "1"
      ]
     },
     "execution_count": 46,
     "metadata": {},
     "output_type": "execute_result"
    }
   ],
   "source": [
    "# 最小値のインデックスを返す\n",
    "# AIの開発において画像データからエッジを検出することがあるのですが、そういった場合にピクセルを1件1件チェックしていき、一番大きい画素値や一番小さい画素値を検索していくことがあります。\n",
    "# そういった時に使用します。\n",
    "# インデックスを返すことで、どこで最小値が得られたのかのピクセル座標を取得することが出来ます。\n",
    "x.argmin()"
   ]
  },
  {
   "cell_type": "code",
   "execution_count": 47,
   "metadata": {},
   "outputs": [
    {
     "data": {
      "text/plain": [
       "9"
      ]
     },
     "execution_count": 47,
     "metadata": {},
     "output_type": "execute_result"
    }
   ],
   "source": [
    "# 最大値のインデックスを返す\n",
    "x.argmax()"
   ]
  },
  {
   "cell_type": "markdown",
   "metadata": {},
   "source": [
    "## 練習プログラム3　配列の演算(6.3点)\n",
    "- 配列の演算を行ってみましょう\n",
    "  - ベクトルの和\n",
    "  - ベクトルの差\n",
    "  - スカラ値とベクトルの和\n",
    "  - スカラ値とベクトルの差\n",
    "  - スカラ値とベクトルの積\n",
    "  - sum()\n",
    "  - max()\n",
    "  - min()\n",
    "  - mean()\n",
    "  - var()\n",
    "  - std()\n",
    "  - sort()\n",
    "  - 行列の和\n",
    "  - 行列の差\n",
    "  - スカラ値と行列の和\n",
    "  - スカラ値と行列の差\n",
    "  - 転置行列\n",
    "  - 行列積\n",
    "  - median()\n",
    "  - argmin()\n",
    "  - argmax()\n",
    "- このNotebookのサンプルプログラムや教科書の値とは違う独自の値を使いましょう。変数名も独自のものに変えましょう。"
   ]
  },
  {
   "cell_type": "code",
   "execution_count": null,
   "metadata": {},
   "outputs": [],
   "source": []
  },
  {
   "cell_type": "code",
   "execution_count": null,
   "metadata": {},
   "outputs": [],
   "source": []
  },
  {
   "cell_type": "code",
   "execution_count": null,
   "metadata": {},
   "outputs": [],
   "source": []
  },
  {
   "cell_type": "markdown",
   "metadata": {},
   "source": [
    "---\n",
    "---\n",
    "---\n",
    "---\n",
    "---"
   ]
  },
  {
   "cell_type": "markdown",
   "metadata": {},
   "source": [
    "## サンプルプログラム4　効率よく配列を作る\n",
    "- NumPyには配列を作る関数がたくさんあります。\n",
    "- 以下の関数を使って、配列を作ってみましょう\n",
    "  - np.zeros()\n",
    "  - np.zeros_like()\n",
    "  - np.ones()\n",
    "  - np.ones_like()\n",
    "  - np.full()\n",
    "  - np.full_like()\n",
    "  - arrange()\n",
    "  - linspace()\n",
    "  - np.random.randint()"
   ]
  },
  {
   "cell_type": "code",
   "execution_count": 53,
   "metadata": {},
   "outputs": [
    {
     "data": {
      "text/plain": [
       "array([[0., 0., 0., 0.],\n",
       "       [0., 0., 0., 0.],\n",
       "       [0., 0., 0., 0.]])"
      ]
     },
     "execution_count": 53,
     "metadata": {},
     "output_type": "execute_result"
    }
   ],
   "source": [
    "# ゼロ行列を作る\n",
    "np.zeros([3, 4])"
   ]
  },
  {
   "cell_type": "code",
   "execution_count": 54,
   "metadata": {},
   "outputs": [
    {
     "data": {
      "text/plain": [
       "array([0, 0, 0])"
      ]
     },
     "execution_count": 54,
     "metadata": {},
     "output_type": "execute_result"
    }
   ],
   "source": [
    "# xと同じ要素数のゼロ行列を作る\n",
    "x = np.array([1, 2, 3])\n",
    "np.zeros_like(x)"
   ]
  },
  {
   "cell_type": "code",
   "execution_count": 55,
   "metadata": {},
   "outputs": [
    {
     "data": {
      "text/plain": [
       "array([1., 1., 1., 1.])"
      ]
     },
     "execution_count": 55,
     "metadata": {},
     "output_type": "execute_result"
    }
   ],
   "source": [
    "# １ベクトルを作る\n",
    "np.ones(4)"
   ]
  },
  {
   "cell_type": "code",
   "execution_count": 56,
   "metadata": {},
   "outputs": [
    {
     "data": {
      "text/plain": [
       "array([1, 1, 1])"
      ]
     },
     "execution_count": 56,
     "metadata": {},
     "output_type": "execute_result"
    }
   ],
   "source": [
    "# xと同じ要素数の1ベクトルを作る。\n",
    "np.ones_like(x)"
   ]
  },
  {
   "cell_type": "code",
   "execution_count": 57,
   "metadata": {},
   "outputs": [
    {
     "data": {
      "text/plain": [
       "array([-2., -2., -2., -2.])"
      ]
     },
     "execution_count": 57,
     "metadata": {},
     "output_type": "execute_result"
    }
   ],
   "source": [
    "# 任意の値で初期化したベクトル\n",
    "np.full(4, -2.)"
   ]
  },
  {
   "cell_type": "code",
   "execution_count": 58,
   "metadata": {},
   "outputs": [
    {
     "data": {
      "text/plain": [
       "array([-2, -2, -2])"
      ]
     },
     "execution_count": 58,
     "metadata": {},
     "output_type": "execute_result"
    }
   ],
   "source": [
    "# xと同じ要素数で任意の値で初期化したベクトル。\n",
    "np.full_like(x, -2.)"
   ]
  },
  {
   "cell_type": "code",
   "execution_count": 59,
   "metadata": {},
   "outputs": [
    {
     "data": {
      "text/plain": [
       "array([0, 1, 2, 3, 4, 5, 6, 7, 8, 9])"
      ]
     },
     "execution_count": 59,
     "metadata": {},
     "output_type": "execute_result"
    }
   ],
   "source": [
    "# 範囲を指定して初期化したベクトル\n",
    "np.arange(0, 10)"
   ]
  },
  {
   "cell_type": "code",
   "execution_count": 60,
   "metadata": {},
   "outputs": [
    {
     "data": {
      "text/plain": [
       "array([ 1, 21, 41, 61, 81])"
      ]
     },
     "execution_count": 60,
     "metadata": {},
     "output_type": "execute_result"
    }
   ],
   "source": [
    "# 範囲とステップを指定して初期化したベクトル\n",
    "np.arange(1, 100, 20)"
   ]
  },
  {
   "cell_type": "code",
   "execution_count": 61,
   "metadata": {},
   "outputs": [
    {
     "data": {
      "text/plain": [
       "array([  0.,  90., 180., 270., 360.])"
      ]
     },
     "execution_count": 61,
     "metadata": {},
     "output_type": "execute_result"
    }
   ],
   "source": [
    "# 始点と終点、分割数を指定してベクトルを作成\n",
    "np.linspace(0, 360, 5)"
   ]
  },
  {
   "cell_type": "code",
   "execution_count": 62,
   "metadata": {},
   "outputs": [
    {
     "data": {
      "text/plain": [
       "array([  0.,  90., 180., 270.])"
      ]
     },
     "execution_count": 62,
     "metadata": {},
     "output_type": "execute_result"
    }
   ],
   "source": [
    "# 始点と終点、分割数を指定してベクトルを作成。終端を含むかどうかをFalse\n",
    "np.linspace(0, 360, 4, endpoint=False)"
   ]
  },
  {
   "cell_type": "code",
   "execution_count": 65,
   "metadata": {},
   "outputs": [
    {
     "data": {
      "text/plain": [
       "array([0.261097  , 0.35786319, 0.86341332, 0.32207028, 0.92262618,\n",
       "       0.63276294, 0.36727232, 0.69294754, 0.71645561, 0.5978944 ])"
      ]
     },
     "execution_count": 65,
     "metadata": {},
     "output_type": "execute_result"
    }
   ],
   "source": [
    "# 一様分布の乱数の数列を作る\n",
    "np.random.rand(10)"
   ]
  },
  {
   "cell_type": "code",
   "execution_count": 66,
   "metadata": {},
   "outputs": [
    {
     "data": {
      "text/plain": [
       "array([ 0.12193143,  0.65203865, -0.55957291,  1.24399463, -0.41809497,\n",
       "       -0.62952325, -0.81496906, -1.27760337,  1.55010977,  0.97352371])"
      ]
     },
     "execution_count": 66,
     "metadata": {},
     "output_type": "execute_result"
    }
   ],
   "source": [
    "# 標準正規分布の乱数の数列を作る\n",
    "np.random.randn(10)"
   ]
  },
  {
   "cell_type": "code",
   "execution_count": 50,
   "metadata": {},
   "outputs": [
    {
     "data": {
      "text/plain": [
       "array([ 0, -1,  4, -3, -2,  4, -4,  3, -5,  3])"
      ]
     },
     "execution_count": 50,
     "metadata": {},
     "output_type": "execute_result"
    }
   ],
   "source": [
    "# 整数の乱数の数列を作る\n",
    "np.random.randint(-5, +5, 10) # -5〜 +5の乱数の配列を、要素数10で作る。"
   ]
  },
  {
   "cell_type": "markdown",
   "metadata": {},
   "source": [
    "---\n",
    "---\n",
    "---\n",
    "---\n",
    "---"
   ]
  },
  {
   "cell_type": "markdown",
   "metadata": {},
   "source": [
    "## 練習プログラム4　配列の作成(1.8点)\n",
    "- NumPyの関数を使って以下の配列を作る練習をしましょう。\n",
    "  - ゼロ行列を作る\n",
    "  - １行列を作る\n",
    "  - 任意の値で初期化したベクトルを作る\n",
    "  - 範囲を指定してベクトルを作る\n",
    "  - 始点と終点、分割数を指定してベクトルを作る\n",
    "  - 乱数の数列を作る\n",
    "- このNotebookのサンプルプログラムや教科書の値とは違う独自の値を使いましょう。変数名も独自のものに変えましょう。"
   ]
  },
  {
   "cell_type": "code",
   "execution_count": null,
   "metadata": {},
   "outputs": [],
   "source": []
  },
  {
   "cell_type": "code",
   "execution_count": null,
   "metadata": {},
   "outputs": [],
   "source": []
  },
  {
   "cell_type": "code",
   "execution_count": null,
   "metadata": {},
   "outputs": [],
   "source": []
  },
  {
   "cell_type": "code",
   "execution_count": null,
   "metadata": {},
   "outputs": [],
   "source": []
  },
  {
   "cell_type": "code",
   "execution_count": null,
   "metadata": {},
   "outputs": [],
   "source": []
  }
 ],
 "metadata": {
  "colab": {
   "authorship_tag": "ABX9TyMOtB7OiTVLb+yu2KoVwjto",
   "include_colab_link": true,
   "provenance": []
  },
  "kernelspec": {
   "display_name": "Python 3 (ipykernel)",
   "language": "python",
   "name": "python3"
  },
  "language_info": {
   "codemirror_mode": {
    "name": "ipython",
    "version": 3
   },
   "file_extension": ".py",
   "mimetype": "text/x-python",
   "name": "python",
   "nbconvert_exporter": "python",
   "pygments_lexer": "ipython3",
   "version": "3.10.8"
  }
 },
 "nbformat": 4,
 "nbformat_minor": 1
}

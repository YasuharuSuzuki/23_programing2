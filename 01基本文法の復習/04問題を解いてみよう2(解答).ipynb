{
 "cells": [
  {
   "cell_type": "markdown",
   "metadata": {
    "colab_type": "text",
    "id": "view-in-github"
   },
   "source": [
    "<a href=\"https://colab.research.google.com/github/PythonBeginners/Meetup033_StartProgramming2/blob/main/\" target=\"_parent\"><img src=\"https://colab.research.google.com/assets/colab-badge.svg\" alt=\"Open In Colab\"/></a>"
   ]
  },
  {
   "cell_type": "markdown",
   "metadata": {},
   "source": [
    "### 問題7\n",
    "# 野球の勝敗判定"
   ]
  },
  {
   "cell_type": "markdown",
   "metadata": {},
   "source": [
    "- 2チーム $(A,B) $ の各イニングごとの得点が配列で与えられます。\n",
    "  - イニングとは野球におけるゲーム進行の単位（一区切り）の１つで、日本語で「回」のことです。\n",
    "  - 通常は9イニング（９回）までですが、コールドゲームや延長戦があるため、9より少なくなることも、多くなることもあります。\n",
    "- $A$ チームのチーム名とイニングごとの数列を $A_{name}, A_1,A_2,...A_i,...A_N $ で表し、$B$ チームのチーム名とイニングごとの数列を $B_{name}, B_1,B_2,...B_i,...B_N $ で表したとき、勝利したチーム名を出力してください。\n",
    "- 引き分けもあります。\n",
    "- for文の練習として、sum()関数を使わずに解いてみましょう。"
   ]
  },
  {
   "cell_type": "markdown",
   "metadata": {},
   "source": [
    "### 制約\n",
    "$\n",
    "5 \\leq N \\leq 15 (Nは整数) \\\\\n",
    "0 \\leq A_i \\leq 15 (A_iは整数) \\\\\n",
    "0 \\leq B_i \\leq 15 (B_iは整数) \\\\\n",
    "A_{name} は文字列 \\\\\n",
    "B_{name} は文字列 \\\\\n",
    "$\n",
    "- sum()関数を使わないこと。(for文の練習のため)"
   ]
  },
  {
   "cell_type": "markdown",
   "metadata": {},
   "source": [
    "### 入力\n",
    "入力は以下の形式で標準入力から与えられます\n",
    "\n",
    "---\n",
    "$\n",
    "N  \\\\\n",
    "A_{name}, A_1, A_2, ...A_i, ...A_N  \\\\\n",
    "B_{name}, B_1,B_2,...B_i, ...B_N  \\\\\n",
    "$\n",
    "\n",
    "---"
   ]
  },
  {
   "cell_type": "markdown",
   "metadata": {},
   "source": [
    "### 出力\n",
    "\n",
    "---\n",
    "$A_{name}$ or $B_{name}$ or 引き分け\n",
    "\n",
    "---\n",
    "- 勝利したチーム名を出力して下さい。　　\n",
    "- 引き分けの時は”引き分け”と出力して下さい。"
   ]
  },
  {
   "cell_type": "markdown",
   "metadata": {},
   "source": [
    "----\n",
    "----\n",
    "\n",
    "### 入力例1\n",
    "```python\n",
    "9\n",
    "アメリカ 0 0 0 0 0 0 0 0 0\n",
    "日本 0 0 0 0 0 0 0 0 1\n",
    "```\n",
    "\n",
    "### 出力例1\n",
    "```python\n",
    "日本\n",
    "```\n",
    "※ 合計0対1で日本の勝ちとなります。"
   ]
  },
  {
   "cell_type": "markdown",
   "metadata": {},
   "source": [
    "----\n",
    "----\n",
    "\n",
    "### 入力例2\n",
    "```python\n",
    "10\n",
    "日本 0 0 1 0 0 0 1 1 0 2\n",
    "韓国 0 0 0 0 0 1 0 1 1 0\n",
    "```\n",
    "\n",
    "### 出力例2\n",
    "```python\n",
    "日本\n",
    "```\n",
    "※ 合計5対3で日本の勝ちとなります。上記の通り延長戦もあります  \n",
    "※ ちなみに上記はWBC2009の決勝戦のスコアとなります   "
   ]
  },
  {
   "cell_type": "markdown",
   "metadata": {},
   "source": [
    "----\n",
    "----\n",
    "\n",
    "### 入力例3\n",
    "```python\n",
    "12\n",
    "オリックス 0 0 2 0 1 0 0 0 0 0 0 0\n",
    "ヤクルト 0 0 0 0 0 0 0 0 3 0 0 0\n",
    "```\n",
    "\n",
    "### 出力例3\n",
    "```python\n",
    "引き分け\n",
    "```\n",
    "※ 合計3対3で引き分けとなります。  \n",
    "※ ちなみに上記は2022年日本シリーズ第２戦のスコアとなります   "
   ]
  },
  {
   "cell_type": "markdown",
   "metadata": {},
   "source": [
    "----\n",
    "----\n",
    "### ここ↓にPythonコードを記述してください"
   ]
  },
  {
   "cell_type": "code",
   "execution_count": 11,
   "metadata": {
    "scrolled": true
   },
   "outputs": [
    {
     "name": "stdout",
     "output_type": "stream",
     "text": [
      "12\n",
      "オリックス 0 0 2 0 1 0 0 0 0 0 0 0\n",
      "ヤクルト 0 0 0 0 0 0 0 0 3 0 0 0\n",
      "引き分け\n"
     ]
    }
   ],
   "source": [
    "# データの受取、加工\n",
    "N = int(input())\n",
    "temp = [input().split(), input().split()]\n",
    "point = [list(map(int,temp[0][1:])), list(map(int,temp[1][1:]))]\n",
    "name = [temp[0][0], temp[1][0]]\n",
    "\n",
    "# 合計点数を計算する関数を定義\n",
    "def calc_point(total_inning, names, points):\n",
    "    point_sum = [0,0]\n",
    "    for team in range(2):\n",
    "        for inning in range(total_inning):\n",
    "            point_sum[team] += point[team][inning]\n",
    "    return point_sum\n",
    "\n",
    "# 合計点数の計算\n",
    "point_sum = calc_point(N, name, point)\n",
    "\n",
    "# 勝者か引き分けを表示する\n",
    "if point_sum[0] > point_sum[1]:\n",
    "    print(name[0])\n",
    "elif point_sum[0] < point_sum[1]:\n",
    "    print(name[1])\n",
    "else:\n",
    "    print('引き分け')\n",
    "# print(point_sum) # デバッグ用"
   ]
  },
  {
   "cell_type": "markdown",
   "metadata": {},
   "source": [
    "----\n",
    "----\n",
    "----\n",
    "----\n",
    "----\n",
    "----\n",
    "----\n",
    "----"
   ]
  },
  {
   "cell_type": "code",
   "execution_count": null,
   "metadata": {},
   "outputs": [],
   "source": []
  }
 ],
 "metadata": {
  "colab": {
   "authorship_tag": "ABX9TyMOtB7OiTVLb+yu2KoVwjto",
   "include_colab_link": true,
   "provenance": []
  },
  "kernelspec": {
   "display_name": "Python 3 (ipykernel)",
   "language": "python",
   "name": "python3"
  },
  "language_info": {
   "codemirror_mode": {
    "name": "ipython",
    "version": 3
   },
   "file_extension": ".py",
   "mimetype": "text/x-python",
   "name": "python",
   "nbconvert_exporter": "python",
   "pygments_lexer": "ipython3",
   "version": "3.10.8"
  }
 },
 "nbformat": 4,
 "nbformat_minor": 1
}

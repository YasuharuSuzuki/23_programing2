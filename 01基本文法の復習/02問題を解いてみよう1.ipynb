{
 "cells": [
  {
   "cell_type": "markdown",
   "metadata": {
    "colab_type": "text",
    "id": "view-in-github"
   },
   "source": [
    "<a href=\"https://colab.research.google.com/github/PythonBeginners/Meetup033_StartProgramming2/blob/main/\" target=\"_parent\"><img src=\"https://colab.research.google.com/assets/colab-badge.svg\" alt=\"Open In Colab\"/></a>"
   ]
  },
  {
   "cell_type": "markdown",
   "metadata": {},
   "source": [
    "### 問題1\n",
    "# 5をかけてください"
   ]
  },
  {
   "cell_type": "markdown",
   "metadata": {},
   "source": [
    "- 数値 N が与えられます。\n",
    "- 5倍した数 5*N を出力して下さい。"
   ]
  },
  {
   "cell_type": "markdown",
   "metadata": {},
   "source": [
    "### 制約\n",
    "$\n",
    "1 \\leq N \\leq 10^{10} (Nは整数) \\\\\n",
    "$"
   ]
  },
  {
   "cell_type": "markdown",
   "metadata": {},
   "source": [
    "### 入力\n",
    "入力は以下の形式で標準入力から与えられます\n",
    "\n",
    "---\n",
    "$\n",
    "N  \\\\\n",
    "$\n",
    "\n",
    "---"
   ]
  },
  {
   "cell_type": "markdown",
   "metadata": {},
   "source": [
    "### 出力\n",
    "\n",
    "---\n",
    "5倍した数\n",
    "\n",
    "---\n",
    "5倍した数を出力して下さい。"
   ]
  },
  {
   "cell_type": "markdown",
   "metadata": {},
   "source": [
    "----\n",
    "----\n",
    "\n",
    "### 入力例1\n",
    "```python\n",
    "123456789\n",
    "```\n",
    "\n",
    "### 出力例1\n",
    "```python\n",
    "617283945\n",
    "```\n",
    "※ 123456789の5倍の数として 617283945 を出力します"
   ]
  },
  {
   "cell_type": "markdown",
   "metadata": {},
   "source": [
    "----\n",
    "----\n",
    "\n",
    "### 入力例2\n",
    "```python\n",
    "5\n",
    "```\n",
    "\n",
    "### 出力例2\n",
    "```python\n",
    "25\n",
    "```\n",
    "※ 5の5倍の数は25ですので、 25 を出力します"
   ]
  },
  {
   "cell_type": "markdown",
   "metadata": {},
   "source": [
    "----\n",
    "----\n",
    "\n",
    "### 入力例3\n",
    "```python\n",
    "99999999\n",
    "```\n",
    "\n",
    "### 出力例3\n",
    "```python\n",
    "499999995\n",
    "```\n",
    "※ 99999999 の5倍の数は 499999995 のため、 499999995 を出力してください。"
   ]
  },
  {
   "cell_type": "markdown",
   "metadata": {},
   "source": [
    "----\n",
    "----\n",
    "### ここ↓にPythonコードを記述してください"
   ]
  },
  {
   "cell_type": "code",
   "execution_count": 3,
   "metadata": {},
   "outputs": [
    {
     "name": "stdout",
     "output_type": "stream",
     "text": [
      "99999999\n",
      "499999995\n"
     ]
    }
   ],
   "source": [
    "\n",
    "\n"
   ]
  },
  {
   "cell_type": "markdown",
   "metadata": {},
   "source": [
    "----\n",
    "----\n",
    "----\n",
    "----\n",
    "----\n",
    "----\n",
    "----\n",
    "----"
   ]
  },
  {
   "cell_type": "markdown",
   "metadata": {},
   "source": [
    "### 問題2\n",
    "# 吾輩は\n",
    "- ゆるるくんは名作の名言を真似できるプログラムを作成中です。\n",
    "- 動物名$S$を入力したら、吾輩は$S$である　と出力するプログラムを作成してください。"
   ]
  },
  {
   "cell_type": "markdown",
   "metadata": {},
   "source": [
    "### 制約\n",
    "$\n",
    "S \\qquad ※S は15文字までの文字列  \\\\\n",
    "$"
   ]
  },
  {
   "cell_type": "markdown",
   "metadata": {},
   "source": [
    "### 入力\n",
    "入力は以下の形式で標準入力から与えられます\n",
    "\n",
    "---\n",
    "$ S $\n",
    "\n",
    "---\n",
    "\n",
    "※input()１つで取得可能"
   ]
  },
  {
   "cell_type": "markdown",
   "metadata": {},
   "source": [
    "### 出力\n",
    "\n",
    "---\n",
    "吾輩は $ S $ である\n",
    "\n",
    "---\n",
    "\n",
    "名作の名言の一部を変えて出力してください。"
   ]
  },
  {
   "cell_type": "markdown",
   "metadata": {},
   "source": [
    "----\n",
    "----\n",
    "\n",
    "### 入力例1\n",
    "```python\n",
    "サーバルキャット\n",
    "```\n",
    "- 動物名を受け取ります。\n",
    "\n",
    "### 出力例1\n",
    "```python\n",
    "吾輩はサーバルキャットである\n",
    "```\n",
    "- 名作の名言の一部を変えて出力してください。"
   ]
  },
  {
   "cell_type": "markdown",
   "metadata": {},
   "source": [
    "----\n",
    "----\n",
    "\n",
    "### 入力例2\n",
    "```python\n",
    "トゲアリトゲナシトゲトゲ\n",
    "```\n",
    "- 動物名を受け取ります。\n",
    "\n",
    "### 出力例2\n",
    "```python\n",
    "吾輩はトゲアリトゲナシトゲトゲである\n",
    "```\n",
    "- 名作の名言の一部を変えて出力してください。"
   ]
  },
  {
   "cell_type": "markdown",
   "metadata": {},
   "source": [
    "----\n",
    "----\n",
    "\n",
    "### ここ↓にPythonコードを記述してください"
   ]
  },
  {
   "cell_type": "code",
   "execution_count": 1,
   "metadata": {},
   "outputs": [
    {
     "name": "stdout",
     "output_type": "stream",
     "text": [
      "トゲアリトゲナシトゲトゲ\n",
      "吾輩はトゲアリトゲナシトゲトゲである\n"
     ]
    }
   ],
   "source": [
    "\n",
    "\n"
   ]
  },
  {
   "cell_type": "markdown",
   "metadata": {},
   "source": [
    "----\n",
    "----\n",
    "----\n",
    "----\n",
    "----\n",
    "----\n",
    "----\n",
    "----"
   ]
  },
  {
   "cell_type": "markdown",
   "metadata": {},
   "source": [
    "### 問題3\n",
    "# わり算するといくつになるかな？\n",
    "- ゆるるくんは小学3年生向けの問題を作成しています。\n",
    "- 割り算の結果を自動的に求めるプログラムを作成し、小学生に見せたいと思っています。\n",
    "- 元の数を $ A $、割る数を $ B $ とし、商を $ D $ 、余りを $ R $としたとき、 以下の２行の文字列で表示するプログラムを作成してください。\n",
    "  - $ A $ ÷ $ B $ = $ D $ あまり $ R $\n",
    "  - 答えは $ D $ あまり $ R $ です"
   ]
  },
  {
   "cell_type": "markdown",
   "metadata": {},
   "source": [
    "### 制約\n",
    "$ 1 \\leq　A \\leq　99 $   \n",
    "$ 1 \\leq　B \\leq　9 $   \n",
    "$ 1 \\leq　D \\leq　9 $   \n",
    "$ 0 \\leq　R \\leq　8 $   \n",
    "$ A $、 $ B $、 $ D $、 $ R $ は整数"
   ]
  },
  {
   "cell_type": "markdown",
   "metadata": {},
   "source": [
    "### 入力\n",
    "入力は以下の形式で標準入力から与えられます\n",
    "\n",
    "---\n",
    "$ A \\quad B $\n",
    "\n",
    "---\n",
    "\n",
    "元の数 $ A $、割る数 $ B $ を空白区切りで受け取ります"
   ]
  },
  {
   "cell_type": "markdown",
   "metadata": {},
   "source": [
    "### 出力\n",
    "\n",
    "---\n",
    "$ A $ ÷ $ B $ = $ D $ あまり $ R $  \n",
    "答えは $ D $ あまり $ R $ です   \n",
    "  \n",
    "---\n",
    "\n",
    "わり算の結果を、式と答えの２行の文章に分けて出力してください。"
   ]
  },
  {
   "cell_type": "markdown",
   "metadata": {},
   "source": [
    "----\n",
    "----\n",
    "\n",
    "### 入力例1\n",
    "```python\n",
    "35  4\n",
    "```\n",
    "\n",
    "### 出力例1\n",
    "```python\n",
    "35 ÷ 4 = 8 あまり 3   \n",
    "答えは 8 あまり 3 です   \n",
    "```\n",
    "- 式「35 ÷ 4 = 8 あまり 3」と、答え「答えは 8 あまり 3 です」の２行の文章に分けて出力します。"
   ]
  },
  {
   "cell_type": "markdown",
   "metadata": {},
   "source": [
    "----\n",
    "----\n",
    "\n",
    "### 入力例2\n",
    "```python\n",
    "67  9\n",
    "```\n",
    "\n",
    "### 出力例2\n",
    "```python\n",
    "67 ÷ 9 = 7 あまり 4   \n",
    "答えは 7 あまり 4 です   \n",
    "```\n",
    "- 式「67 ÷ 9 = 7 あまり 4」と、答え「答えは 7 あまり 4 です」の２行の文章に分けて出力します。"
   ]
  },
  {
   "cell_type": "markdown",
   "metadata": {},
   "source": [
    "---- \n",
    "----\n",
    "### ここ↓にPythonコードを記述してください"
   ]
  },
  {
   "cell_type": "code",
   "execution_count": 14,
   "metadata": {},
   "outputs": [
    {
     "name": "stdout",
     "output_type": "stream",
     "text": [
      "67 9\n",
      "67 ÷ 9 = 7 あまり 4\n",
      "答えは 7 あまり 4 です\n"
     ]
    }
   ],
   "source": [
    "\n",
    "\n",
    "\n",
    "\n"
   ]
  },
  {
   "cell_type": "markdown",
   "metadata": {},
   "source": [
    "----\n",
    "----\n",
    "----\n",
    "----\n",
    "----\n",
    "----\n",
    "----\n",
    "----"
   ]
  },
  {
   "cell_type": "markdown",
   "metadata": {},
   "source": [
    "### 問題4\n",
    "# 駄菓子屋100\n",
    "- ゆるるくんは100円だけたくさん持って駄菓子屋へ行きました。\n",
    "- 雑多に置かれた駄菓子を $ N $ 個掴みましたが、そのうちの $ S $ 番目〜 $ E $ 番目までを買うことにしました。\n",
    "- 各駄菓子の値段が $ D_1 $ 〜 $ D_N $ で表される時、駄菓子を購入するのに必要な100円玉の枚数 $ A $ と、お釣りの金額 $ R$ を出力せよ"
   ]
  },
  {
   "cell_type": "markdown",
   "metadata": {},
   "source": [
    "### 制約\n",
    "$ 1 \\leq　N \\leq　10 $   \n",
    "$ 1 \\leq　S \\leq　N $   \n",
    "$ S \\leq　E \\leq　N $   \n",
    "$ 5 \\leq　D_i \\leq　100 $   \n",
    "$ 1 \\leq　A \\leq　10 $   \n",
    "$ 0 \\leq　R \\leq　99 $   \n",
    "$ N $、$ S $、$ E $ 、$ D_i $ 、$ A $ 、$ R $ はそれぞれ整数  "
   ]
  },
  {
   "cell_type": "markdown",
   "metadata": {},
   "source": [
    "### 入力\n",
    "入力は以下の形式で標準入力から与えられます\n",
    "\n",
    "---\n",
    "$\n",
    "N \\quad S \\quad E \\\\\n",
    "D_1 \\quad D_2 \\quad ... \\quad D_N \\\\\n",
    "$\n",
    "\n",
    "---\n",
    "\n",
    "１行目で掴んだ駄菓子の個数$ N $、買うことにした範囲（$ S $、$ E $）を受け取ります。  \n",
    "２行目では各駄菓子の値段 $ D_1 $ 〜 $ D_N $ を受け取ります。  "
   ]
  },
  {
   "cell_type": "markdown",
   "metadata": {},
   "source": [
    "### 出力\n",
    "\n",
    "---\n",
    "$ A \\quad　R $   \n",
    "  \n",
    "---\n",
    "\n",
    "駄菓子を購入するのに必要な100円玉の枚数 $ A $ と、おつり $ R $ を出力してください。"
   ]
  },
  {
   "cell_type": "markdown",
   "metadata": {},
   "source": [
    "----\n",
    "----\n",
    "\n",
    "### 入力例1\n",
    "```python\n",
    "10 2 9\n",
    "50 60 70 80 90 100 80 90 70 60\n",
    "```\n",
    "- １行目で掴んだ駄菓子の個数$ N=10 $、買うことにした範囲（$ S=1 $、$ E=5 $）を受け取ります。  \n",
    "- ２行目では各駄菓子の値段 $ D_1=5 $ 〜 $ D_{10}=50 $ を受け取ります。  \n",
    "\n",
    "### 出力例1\n",
    "```python\n",
    "7 60\n",
    "```\n",
    "- $ D_2 $ 〜 $ D_{9} $ の合計値は $ 640 $です。\n",
    "  - $ 60+70+80+90+100+80+90+70 = 640 $\n",
    "- 合計値を100円で割り算し、必要な個数を求めると答えは$ 7 $となります。\n",
    "- おつりは $ 60 $ です。"
   ]
  },
  {
   "cell_type": "markdown",
   "metadata": {},
   "source": [
    "----\n",
    "----\n",
    "\n",
    "### 入力例2\n",
    "```python\n",
    "6 2 5\n",
    "50 60 70 80 90 100\n",
    "```\n",
    "- １行目で掴んだ駄菓子の個数$ N=6 $、買うことにした範囲（$ S=2 $、$ E=5 $）を受け取ります。  \n",
    "- ２行目では各駄菓子の値段 $ D_1=50 $ 〜 $ D_{6}=100 $ を受け取ります。  \n",
    "\n",
    "### 出力例2\n",
    "```python\n",
    "3 0\n",
    "```\n",
    "- $ D_2 $ 〜 $ D_{5} $ の合計値は $ 300 $です。\n",
    "  - $ 60+70+80+90 = 240 $\n",
    "- 合計値を100円で割り算し、必要な個数を求めると答えは$ 3 $となります。\n",
    "- おつりは $ 0 $ です。"
   ]
  },
  {
   "cell_type": "markdown",
   "metadata": {},
   "source": [
    "----\n",
    "----\n",
    "\n",
    "### ここ↓にPythonコードを記述してください"
   ]
  },
  {
   "cell_type": "code",
   "execution_count": 24,
   "metadata": {},
   "outputs": [
    {
     "name": "stdout",
     "output_type": "stream",
     "text": [
      "6 2 5\n",
      "50 60 70 80 90 100\n",
      "3 0\n"
     ]
    }
   ],
   "source": [
    "\n",
    "\n",
    "\n",
    "\n",
    "\n",
    "\n",
    "\n",
    "\n"
   ]
  },
  {
   "cell_type": "markdown",
   "metadata": {},
   "source": [
    "----\n",
    "----\n",
    "----\n",
    "----\n",
    "----\n",
    "----\n",
    "----\n",
    "----"
   ]
  },
  {
   "cell_type": "markdown",
   "metadata": {},
   "source": [
    "### 問題5\n",
    "# 4の付く日、24の付く日\n",
    "- とあるスーパーでは、日付の1桁目が4の日は「ホームランデー」として10%割引きされます\n",
    "- またこのスーパーの店長は西さんという方で、毎月24日は「店長特別割引デー」として24%割引されます\n",
    "- ゆるるくんがスーパーに行った日の割引き率を出力してください\n",
    "- 日付が月と日で入力されます。入力は$ M \\quad D$ で与えられ、$M$が月、$D$が日になります。"
   ]
  },
  {
   "cell_type": "markdown",
   "metadata": {},
   "source": [
    "### 制約\n",
    "$\n",
    "1 \\leq M \\leq 12  \\\\\n",
    "1 \\leq D \\leq 31\n",
    "$"
   ]
  },
  {
   "cell_type": "markdown",
   "metadata": {},
   "source": [
    "### 入力\n",
    "入力は以下の形式で標準入力から与えられます\n",
    "\n",
    "---\n",
    "$ M \\quad D $\n",
    "\n",
    "---"
   ]
  },
  {
   "cell_type": "markdown",
   "metadata": {},
   "source": [
    "### 出力\n",
    "\n",
    "---\n",
    "割引率\n",
    "\n",
    "---\n",
    "割引率を％で出力してください。"
   ]
  },
  {
   "cell_type": "markdown",
   "metadata": {},
   "source": [
    "----\n",
    "----\n",
    "\n",
    "### 入力例1\n",
    "```python\n",
    "12  14\n",
    "```\n",
    "\n",
    "\n",
    "### 出力例1\n",
    "```python\n",
    "10\n",
    "```\n",
    "- 12月14日は日付の1桁目が4のため「ホームランデー」として10%割引きされます"
   ]
  },
  {
   "cell_type": "markdown",
   "metadata": {},
   "source": [
    "----\n",
    "----\n",
    "\n",
    "### 入力例2\n",
    "```python\n",
    "3  24\n",
    "```\n",
    "\n",
    "\n",
    "### 出力例2\n",
    "```python\n",
    "24\n",
    "```\n",
    "- 3月24日は日付が24のため「店長特別割引デー」として24%割引きされます"
   ]
  },
  {
   "cell_type": "markdown",
   "metadata": {},
   "source": [
    "----\n",
    "----\n",
    "\n",
    "### 入力例3\n",
    "```python\n",
    "7  30\n",
    "```\n",
    "\n",
    "\n",
    "### 出力例3\n",
    "```python\n",
    "0\n",
    "```\n",
    "- 7月30日は日付の1桁目が4でも24でもないため、割引率は0%です。"
   ]
  },
  {
   "cell_type": "code",
   "execution_count": 30,
   "metadata": {},
   "outputs": [
    {
     "name": "stdout",
     "output_type": "stream",
     "text": [
      "7 30\n",
      "0\n"
     ]
    }
   ],
   "source": [
    "\n",
    "\n",
    "\n",
    "\n",
    "\n",
    "\n",
    "\n"
   ]
  },
  {
   "cell_type": "markdown",
   "metadata": {},
   "source": [
    "----\n",
    "----\n",
    "----\n",
    "----\n",
    "----\n",
    "----\n",
    "----\n",
    "----"
   ]
  },
  {
   "cell_type": "markdown",
   "metadata": {},
   "source": [
    "### 問題6\n",
    "# 台形の面積"
   ]
  },
  {
   "cell_type": "markdown",
   "metadata": {},
   "source": [
    "- ゆるるくんは小学生向けの問題を作成しています。\n",
    "- 台形の面積を自動的に求めるプログラムを作成し、小学生に見せたいと思っています。\n",
    "- 台形の面積は(上底＋下底)ｘ高さ÷２で求まります。\n",
    "- 上底の値を$U$cm、下底の値を$B$cm、高さの値を$H$cm、求まった面積を$R$cm^2とした 以下の２行の文字列で表示するプログラムを作成してください。\n",
    "  - ($U$ ＋ $B$) × $H$ ÷ 2 = $R$\n",
    "  - 答えは $R$ cm^2 です"
   ]
  },
  {
   "cell_type": "markdown",
   "metadata": {},
   "source": [
    "### 制約\n",
    "$\n",
    "1 <= U <= 9 (Yは整数) \\\\\n",
    "1 <= B <= 9 (Xは整数) \\\\\n",
    "1 <= H <= 9 (Xは整数) \\\\\n",
    "$\n",
    "$ R $ は正の実数。小数点第一位まで出力\n",
    "- 小数点第二位以下は丸めてください。\n",
    "- 小数点以下は適切な桁数で表示が丸まっていればOKとします。formatやfstring、roundなどの桁数指定のいずれかを使用してください。\n",
    "- 厳密な四捨五入かどうかは問わないこととします(Pythonで四捨五入するのは難しいため）\n"
   ]
  },
  {
   "cell_type": "markdown",
   "metadata": {},
   "source": [
    "### 入力\n",
    "入力は以下の形式で標準入力から与えられます\n",
    "\n",
    "---\n",
    "$ U \\quad B \\quad H $\n",
    "\n",
    "---\n",
    "上底 $ U $、下底 $ B $、高さ $ H $ を空白区切りで受け取ります"
   ]
  },
  {
   "cell_type": "markdown",
   "metadata": {},
   "source": [
    "### 出力\n",
    "\n",
    "---\n",
    "($U$ ＋ $B$) × $H$ ÷ 2 = $R$  \n",
    "答えは $R$ cm^2 です  \n",
    "\n",
    "---\n",
    "式と答えの２行の文章に分けて出力してください。"
   ]
  },
  {
   "cell_type": "markdown",
   "metadata": {},
   "source": [
    "----\n",
    "----\n",
    "\n",
    "### 入力例1\n",
    "```python\n",
    "4  9  7\n",
    "```\n",
    "\n",
    "\n",
    "### 出力例1\n",
    "```python\n",
    "(4 ＋ 9) × 7 ÷ 2 = 45.5  \n",
    "答えは45.5cm^2です  \n",
    "```\n",
    "- 式「(4 ＋ 9) × 7 ÷ 2 = 45.5」と、答え「答えは45.5cm^2です」の２行の文章に分けて出力します。"
   ]
  },
  {
   "cell_type": "markdown",
   "metadata": {},
   "source": [
    "----\n",
    "----\n",
    "\n",
    "### 入力例2\n",
    "```python\n",
    "8  4  6\n",
    "```\n",
    "\n",
    "\n",
    "### 出力例2\n",
    "```python\n",
    "(8 ＋ 4) × 6 ÷ 2 = 36.0  \n",
    "答えは36.0cm^2です\n",
    "```\n",
    "- 式「(8 ＋ 4) × 6 ÷ 2 = 36.0」と、答え「答えは36.0cm^2です」の２行の文章に分けて出力します。"
   ]
  },
  {
   "cell_type": "code",
   "execution_count": 34,
   "metadata": {},
   "outputs": [
    {
     "name": "stdout",
     "output_type": "stream",
     "text": [
      "4 9 7\n",
      "(4 ＋ 9) × 7 ÷ 2 = 45.5  \n",
      "答えは45.5cm^2です\n"
     ]
    }
   ],
   "source": [
    "\n",
    "\n",
    "\n",
    "\n",
    "\n"
   ]
  },
  {
   "cell_type": "code",
   "execution_count": null,
   "metadata": {},
   "outputs": [],
   "source": []
  }
 ],
 "metadata": {
  "colab": {
   "authorship_tag": "ABX9TyMOtB7OiTVLb+yu2KoVwjto",
   "include_colab_link": true,
   "provenance": []
  },
  "kernelspec": {
   "display_name": "Python 3 (ipykernel)",
   "language": "python",
   "name": "python3"
  },
  "language_info": {
   "codemirror_mode": {
    "name": "ipython",
    "version": 3
   },
   "file_extension": ".py",
   "mimetype": "text/x-python",
   "name": "python",
   "nbconvert_exporter": "python",
   "pygments_lexer": "ipython3",
   "version": "3.10.8"
  }
 },
 "nbformat": 4,
 "nbformat_minor": 1
}
